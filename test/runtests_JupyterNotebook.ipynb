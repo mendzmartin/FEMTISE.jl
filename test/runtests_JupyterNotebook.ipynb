{
 "cells": [
  {
   "attachments": {},
   "cell_type": "markdown",
   "metadata": {},
   "source": [
    "We activate the specific \"SteadyStateSchrodingerEquation\" environment"
   ]
  },
  {
   "cell_type": "code",
   "execution_count": 1,
   "metadata": {},
   "outputs": [
    {
     "name": "stderr",
     "output_type": "stream",
     "text": [
      "\u001b[32m\u001b[1m  Activating\u001b[22m\u001b[39m project at `~/github_repositories/my_repositories/SteadyStateSchrodingerEquation.jl`\n"
     ]
    }
   ],
   "source": [
    "using Pkg\n",
    "Pkg.activate(\"../\")"
   ]
  },
  {
   "attachments": {},
   "cell_type": "markdown",
   "metadata": {},
   "source": [
    "We need to execute the following commands if we build the environment for the first time"
   ]
  },
  {
   "cell_type": "code",
   "execution_count": null,
   "metadata": {},
   "outputs": [],
   "source": [
    "#= Pkg.add(\"Gridap\");\n",
    "Pkg.add(\"GridapGmsh\");\n",
    "Pkg.add(\"Gmsh\");\n",
    "Pkg.add(\"FileIO\");\n",
    "Pkg.add(\"LinearAlgebra\");\n",
    "Pkg.add(\"SparseArrays\");\n",
    "Pkg.add(\"Arpack\"); =#"
   ]
  },
  {
   "attachments": {},
   "cell_type": "markdown",
   "metadata": {},
   "source": [
    "With this command we can check the intalled packages in the environment"
   ]
  },
  {
   "cell_type": "code",
   "execution_count": null,
   "metadata": {},
   "outputs": [],
   "source": [
    "Pkg.status()"
   ]
  },
  {
   "cell_type": "code",
   "execution_count": null,
   "metadata": {},
   "outputs": [],
   "source": [
    "#= Pkg.instantiate() =#"
   ]
  },
  {
   "cell_type": "code",
   "execution_count": 19,
   "metadata": {},
   "outputs": [],
   "source": [
    "using Gridap\n",
    "using GridapGmsh\n",
    "using Gmsh\n",
    "using FileIO\n",
    "using LinearAlgebra\n",
    "using SparseArrays\n",
    "using Arpack"
   ]
  },
  {
   "cell_type": "code",
   "execution_count": null,
   "metadata": {},
   "outputs": [],
   "source": [
    "include(\"../src/SteadyStateSchrodingerEquation.jl\")"
   ]
  },
  {
   "cell_type": "code",
   "execution_count": 2,
   "metadata": {},
   "outputs": [],
   "source": [
    "using SteadyStateSchrodingerEquation"
   ]
  },
  {
   "attachments": {},
   "cell_type": "markdown",
   "metadata": {},
   "source": [
    "### Check functions inside `MeshGeneratorFunction.jl`"
   ]
  },
  {
   "cell_type": "code",
   "execution_count": 3,
   "metadata": {},
   "outputs": [],
   "source": [
    "dom2D=(-25.0,25.0,-25.0,25.0);nxy=(50,50);params_model=((dom2D,nxy));\n",
    "grid_type=\"Cartesian2D\";"
   ]
  },
  {
   "cell_type": "code",
   "execution_count": 4,
   "metadata": {},
   "outputs": [],
   "source": [
    "model2D=make_model(grid_type,params_model);"
   ]
  },
  {
   "cell_type": "code",
   "execution_count": 5,
   "metadata": {},
   "outputs": [],
   "source": [
    "#= using Gridap\n",
    "writevtk(model2d,\"hola\") =#"
   ]
  },
  {
   "attachments": {},
   "cell_type": "markdown",
   "metadata": {},
   "source": [
    "### Check functions inside `BoundaryConditionsFunction.jl`"
   ]
  },
  {
   "cell_type": "code",
   "execution_count": 6,
   "metadata": {},
   "outputs": [],
   "source": [
    "BC_type=\"FullDirichlet\";\n",
    "FullDirichlet_values,FullDirichlet_tags=make_boundary_conditions(grid_type,BC_type,ComplexF64);"
   ]
  },
  {
   "attachments": {},
   "cell_type": "markdown",
   "metadata": {},
   "source": [
    "### Check functions inside `MiscellaneousFunctions.jl`"
   ]
  },
  {
   "cell_type": "code",
   "execution_count": 7,
   "metadata": {},
   "outputs": [
    {
     "data": {
      "text/plain": [
       "(BodyFittedTriangulation(), GenericMeasure(), BoundaryTriangulation(), GenericMeasure())"
      ]
     },
     "metadata": {},
     "output_type": "display_data"
    }
   ],
   "source": [
    "Ω,dΩ,Γ,dΓ = measures(model2D,3,FullDirichlet_tags)"
   ]
  },
  {
   "cell_type": "code",
   "execution_count": 20,
   "metadata": {},
   "outputs": [
    {
     "data": {
      "text/plain": [
       "(Lagrangian(), (Float64, 2), Base.Pairs{Symbol, Union{}, Tuple{}, NamedTuple{(), Tuple{}}}())"
      ]
     },
     "metadata": {},
     "output_type": "display_data"
    }
   ],
   "source": [
    "reff = ReferenceFE(lagrangian,Float64,2)"
   ]
  },
  {
   "cell_type": "code",
   "execution_count": 21,
   "metadata": {},
   "outputs": [
    {
     "data": {
      "text/plain": [
       "(UnconstrainedFESpace(), TrialFESpace())"
      ]
     },
     "metadata": {},
     "output_type": "display_data"
    }
   ],
   "source": [
    "VSpace,USpace = FESpaces(model2D,reff,grid_type;BC_type=BC_type,TypeData=ComplexF64)"
   ]
  },
  {
   "attachments": {},
   "cell_type": "markdown",
   "metadata": {},
   "source": [
    "#### We build functions to write a specific Sturm-Liouville formulation"
   ]
  },
  {
   "cell_type": "code",
   "execution_count": 22,
   "metadata": {},
   "outputs": [
    {
     "data": {
      "text/plain": [
       "eigenvalue_problem_functions (generic function with 1 method)"
      ]
     },
     "metadata": {},
     "output_type": "display_data"
    }
   ],
   "source": [
    "const ħ::Float64=1.0;\n",
    "const m::Float64=1.0;\n",
    "function eigenvalue_problem_functions(params;switch_potential = \"QHO_1D\")\n",
    "    if (switch_potential == \"QHO_1D\")\n",
    "        # 1D quantum harmonic oscillator potential\n",
    "        println(\"Set quantum harmonic oscillator 1D potential\");\n",
    "        ω,x₁=params;\n",
    "        p_QHO_1D(x) = 0.5*(ħ*ħ)*(1.0/m);                                      # kinetic energy\n",
    "        q_QHO_1D(x) = 0.5*m*(ω*ω)*(x[1]-x₁)*(x[1]-x₁);                        # 1D harmonic oscillator centered in x₁\n",
    "        r_QHO_1D(x) = 1.0;\n",
    "        return p_QHO_1D,q_QHO_1D,r_QHO_1D\n",
    "    elseif (switch_potential == \"QHO_2D\")\n",
    "        # 2D quantum harmonic oscillator potential\n",
    "        println(\"Set quantum harmonic oscillator 2D potential\");\n",
    "        ω,x₁,y₁=params;\n",
    "        p_QHO_2D(x) = 0.5*(ħ*ħ)*(1.0/m);                                       # kinetic energy\n",
    "        q_QHO_2D(x) = 0.5*m*(ω*ω)*((x[1]-x₁)*(x[1]-x₁)+(x[2]-y₁)*(x[2]-y₁));   # 2D harmonic osicllator centered in (x₁,y₁)\n",
    "        r_QHO_2D(x) = 1.0;\n",
    "        return p_QHO_2D,q_QHO_2D,r_QHO_2D\n",
    "    end\n",
    "end"
   ]
  },
  {
   "cell_type": "code",
   "execution_count": 23,
   "metadata": {},
   "outputs": [
    {
     "name": "stdout",
     "output_type": "stream",
     "text": [
      "Set quantum harmonic oscillator 2D potential\n"
     ]
    },
    {
     "data": {
      "text/plain": [
       "(var\"#p_QHO_2D#22\"(), var\"#q_QHO_2D#23\"{Float64}(0.0, Core.Box(0.0), Core.Box(1.0)), var\"#r_QHO_2D#24\"())"
      ]
     },
     "metadata": {},
     "output_type": "display_data"
    }
   ],
   "source": [
    "p,q,r = eigenvalue_problem_functions((1.0,0.0,0.0);switch_potential = \"QHO_2D\")"
   ]
  },
  {
   "attachments": {},
   "cell_type": "markdown",
   "metadata": {},
   "source": [
    "### Check functions inside `EigenProblemSolveFunction.jl`"
   ]
  },
  {
   "cell_type": "code",
   "execution_count": 24,
   "metadata": {},
   "outputs": [
    {
     "data": {
      "text/plain": [
       "(ComplexF64[1.0045798611878358 - 1.7750358144878927e-17im, 2.017535772414723 - 4.9427743429198825e-17im, 2.017535772414729 + 1.0139307186121849e-16im, 3.030491683641623 - 8.535042376344906e-17im], CellField[SingleFieldFEFunction(), SingleFieldFEFunction(), SingleFieldFEFunction(), SingleFieldFEFunction()])"
      ]
     },
     "metadata": {},
     "output_type": "display_data"
    }
   ],
   "source": [
    "ϵ,ϕ = EigenValuesAndEigenVectors(p,q,r,dΩ,USpace,VSpace;params=(4,10e-9,500,:none,0.0))"
   ]
  },
  {
   "attachments": {},
   "cell_type": "markdown",
   "metadata": {},
   "source": [
    "#### We build an array with exactly eigenenergie values to quantum 2D harmonic oscillator"
   ]
  },
  {
   "cell_type": "code",
   "execution_count": 25,
   "metadata": {},
   "outputs": [
    {
     "data": {
      "text/plain": [
       "exactly_eigenvalues_2DQHO (generic function with 1 method)"
      ]
     },
     "metadata": {},
     "output_type": "display_data"
    }
   ],
   "source": [
    "function exactly_eigenvalues_2DQHO(num_eigval::Integer)\n",
    "    ϵ_real_aux=Array{Float64}(undef, num_eigval^2)\n",
    "    index::Int64=1\n",
    "    for i in 1:num_eigval\n",
    "        for j in 1:num_eigval\n",
    "            ϵ_real_aux[index]=((i-1)+(j-1)+1)\n",
    "            index+=1\n",
    "        end\n",
    "    end\n",
    "    ϵ_real_aux=sort(ϵ_real_aux);\n",
    "    ϵ_real = ϵ_real_aux[1:num_eigval];\n",
    "    return ϵ_real\n",
    "end"
   ]
  },
  {
   "cell_type": "code",
   "execution_count": 26,
   "metadata": {},
   "outputs": [
    {
     "data": {
      "text/plain": [
       "4-element Vector{Float64}:\n",
       " 1.0\n",
       " 2.0\n",
       " 2.0\n",
       " 3.0"
      ]
     },
     "metadata": {},
     "output_type": "display_data"
    }
   ],
   "source": [
    "ϵ_real=exactly_eigenvalues_2DQHO(length(ϵ))"
   ]
  },
  {
   "cell_type": "code",
   "execution_count": 27,
   "metadata": {},
   "outputs": [],
   "source": [
    "using Test"
   ]
  },
  {
   "cell_type": "code",
   "execution_count": 28,
   "metadata": {},
   "outputs": [
    {
     "data": {
      "text/plain": [
       "\u001b[32m\u001b[1mTest Passed\u001b[22m\u001b[39m"
      ]
     },
     "metadata": {},
     "output_type": "display_data"
    }
   ],
   "source": [
    "@test real(ϵ) ≈ ϵ_real atol=0.1"
   ]
  },
  {
   "attachments": {},
   "cell_type": "markdown",
   "metadata": {},
   "source": [
    "#### We define useful functions to check the eigenvectors"
   ]
  },
  {
   "cell_type": "code",
   "execution_count": 29,
   "metadata": {},
   "outputs": [
    {
     "data": {
      "text/plain": [
       "norm_L2 (generic function with 1 method)"
      ]
     },
     "metadata": {},
     "output_type": "display_data"
    }
   ],
   "source": [
    "function norm_L2(𝜳::Vector{CellField},dΩ::Gridap.CellData.GenericMeasure)\n",
    "    return sqrt(real(sum(∫(𝜳'*𝜳)*dΩ)));\n",
    "end"
   ]
  },
  {
   "cell_type": "code",
   "execution_count": 30,
   "metadata": {},
   "outputs": [
    {
     "data": {
      "text/plain": [
       "1.9999999999999993"
      ]
     },
     "metadata": {},
     "output_type": "display_data"
    }
   ],
   "source": [
    "norm_L2(ϕ,dΩ)"
   ]
  }
 ],
 "metadata": {
  "kernelspec": {
   "display_name": "Julia 1.9.0",
   "language": "julia",
   "name": "julia-1.9"
  },
  "language_info": {
   "file_extension": ".jl",
   "mimetype": "application/julia",
   "name": "julia",
   "version": "1.9.0"
  },
  "orig_nbformat": 4
 },
 "nbformat": 4,
 "nbformat_minor": 2
}
