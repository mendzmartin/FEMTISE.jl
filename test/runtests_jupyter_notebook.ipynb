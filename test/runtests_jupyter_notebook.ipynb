{
 "cells": [
  {
   "attachments": {},
   "cell_type": "markdown",
   "metadata": {},
   "source": [
    "We activate the specific \"TimeIndependentSchrodingerEquation\" environment"
   ]
  },
  {
   "cell_type": "code",
   "execution_count": 27,
   "metadata": {},
   "outputs": [
    {
     "name": "stderr",
     "output_type": "stream",
     "text": [
      "\u001b[32m\u001b[1m  Activating\u001b[22m\u001b[39m project at `~/github_repositories/my_repositories/TimeIndependentSchrodingerEquation`\n"
     ]
    }
   ],
   "source": [
    "using Pkg\n",
    "Pkg.activate(\"../\")"
   ]
  },
  {
   "attachments": {},
   "cell_type": "markdown",
   "metadata": {},
   "source": [
    "We need to execute the following commands if we build the environment for the first time"
   ]
  },
  {
   "cell_type": "code",
   "execution_count": 28,
   "metadata": {},
   "outputs": [],
   "source": [
    "#= Pkg.add(\"Gridap\")\n",
    "Pkg.add(\"GridapGmsh\")\n",
    "Pkg.add(\"Gmsh\");\n",
    "Pkg.add(\"FileIO\");\n",
    "Pkg.add(\"LinearAlgebra\");\n",
    "Pkg.add(\"SparseArrays\");\n",
    "Pkg.add(\"Arpack\"); =#"
   ]
  },
  {
   "attachments": {},
   "cell_type": "markdown",
   "metadata": {},
   "source": [
    "With this command we can check the intalled packages in the environment"
   ]
  },
  {
   "cell_type": "code",
   "execution_count": 29,
   "metadata": {},
   "outputs": [
    {
     "name": "stdout",
     "output_type": "stream",
     "text": [
      "\u001b[36m\u001b[1mProject\u001b[22m\u001b[39m TimeIndependentSchrodingerEquation v1.0.0-DEV\n",
      "\u001b[32m\u001b[1mStatus\u001b[22m\u001b[39m `~/github_repositories/my_repositories/TimeIndependentSchrodingerEquation/Project.toml`\n",
      "  \u001b[90m[7d9fca2a] \u001b[39mArpack v0.5.4\n",
      "  \u001b[90m[5789e2e9] \u001b[39mFileIO v1.16.1\n",
      "  \u001b[90m[705231aa] \u001b[39mGmsh v0.2.2\n",
      "  \u001b[90m[56d4f2e9] \u001b[39mGridap v0.17.17\n",
      "  \u001b[90m[3025c34a] \u001b[39mGridapGmsh v0.6.1\n",
      "  \u001b[90m[37e2e46d] \u001b[39mLinearAlgebra\n",
      "  \u001b[90m[44cfe95a] \u001b[39mPkg v1.9.0\n",
      "  \u001b[90m[2f01184e] \u001b[39mSparseArrays\n"
     ]
    }
   ],
   "source": [
    "Pkg.status()"
   ]
  },
  {
   "cell_type": "code",
   "execution_count": 30,
   "metadata": {},
   "outputs": [],
   "source": [
    "using TimeIndependentSchrodingerEquation\n",
    "using Gridap,Test"
   ]
  },
  {
   "attachments": {},
   "cell_type": "markdown",
   "metadata": {},
   "source": [
    "### Check functions inside `MeshGeneratorFunction.jl`"
   ]
  },
  {
   "cell_type": "code",
   "execution_count": 119,
   "metadata": {},
   "outputs": [],
   "source": [
    "dom2D=(-30.0,30.0,-30.0,30.0);nxy=(100,100);params_model=(dom2D,nxy);\n",
    "grid_type=\"Cartesian2D\";"
   ]
  },
  {
   "cell_type": "code",
   "execution_count": 120,
   "metadata": {},
   "outputs": [
    {
     "name": "stderr",
     "output_type": "stream",
     "text": [
      "Warning : Gmsh has aleady been initialized\n"
     ]
    }
   ],
   "source": [
    "model2D=make_model(grid_type,params_model);"
   ]
  },
  {
   "cell_type": "code",
   "execution_count": 121,
   "metadata": {},
   "outputs": [],
   "source": [
    "#= using Gridap\n",
    "writevtk(model2d,\"model2d\") =#"
   ]
  },
  {
   "attachments": {},
   "cell_type": "markdown",
   "metadata": {},
   "source": [
    "### Check functions inside `BoundaryConditionsFunction.jl`"
   ]
  },
  {
   "cell_type": "code",
   "execution_count": 122,
   "metadata": {},
   "outputs": [],
   "source": [
    "BC_type=\"FullDirichlet\";\n",
    "FullDirichlet_values,FullDirichlet_tags=make_boundary_conditions(grid_type,BC_type,ComplexF64);"
   ]
  },
  {
   "attachments": {},
   "cell_type": "markdown",
   "metadata": {},
   "source": [
    "### Check functions inside `MiscellaneousFunctions.jl`"
   ]
  },
  {
   "cell_type": "code",
   "execution_count": 123,
   "metadata": {},
   "outputs": [
    {
     "data": {
      "text/plain": [
       "(BodyFittedTriangulation(), GenericMeasure(), BoundaryTriangulation(), GenericMeasure())"
      ]
     },
     "metadata": {},
     "output_type": "display_data"
    }
   ],
   "source": [
    "Ω,dΩ,Γ,dΓ = measures(model2D,3,FullDirichlet_tags)"
   ]
  },
  {
   "cell_type": "code",
   "execution_count": 124,
   "metadata": {},
   "outputs": [
    {
     "data": {
      "text/plain": [
       "(Lagrangian(), (Float64, 2), Base.Pairs{Symbol, Union{}, Tuple{}, NamedTuple{(), Tuple{}}}())"
      ]
     },
     "metadata": {},
     "output_type": "display_data"
    }
   ],
   "source": [
    "reff = ReferenceFE(lagrangian,Float64,2)"
   ]
  },
  {
   "cell_type": "code",
   "execution_count": 125,
   "metadata": {},
   "outputs": [
    {
     "data": {
      "text/plain": [
       "(UnconstrainedFESpace(), TrialFESpace())"
      ]
     },
     "metadata": {},
     "output_type": "display_data"
    }
   ],
   "source": [
    "VSpace,USpace = fe_spaces(model2D,reff,grid_type;BC_type=BC_type,TypeData=ComplexF64)"
   ]
  },
  {
   "attachments": {},
   "cell_type": "markdown",
   "metadata": {},
   "source": [
    "#### We build functions to write a specific Sturm-Liouville formulation"
   ]
  },
  {
   "cell_type": "code",
   "execution_count": 126,
   "metadata": {},
   "outputs": [
    {
     "data": {
      "text/plain": [
       "eigenvalue_problem_functions (generic function with 1 method)"
      ]
     },
     "metadata": {},
     "output_type": "display_data"
    }
   ],
   "source": [
    "function eigenvalue_problem_functions(params;switch_potential = \"QHO_1D\")\n",
    "    ħ::Float64=1.0; m::Float64=1.0;\n",
    "    if (switch_potential == \"QHO_1D\")\n",
    "        # 1D quantum harmonic oscillator potential\n",
    "        println(\"Set quantum harmonic oscillator 1D potential\");\n",
    "        ω,x₁=params;\n",
    "        p_QHO_1D(x) = 0.5*(ħ*ħ)*(1.0/m);                                      # kinetic energy\n",
    "        q_QHO_1D(x) = 0.5*m*(ω*ω)*(x[1]-x₁)*(x[1]-x₁);                        # 1D harmonic oscillator centered in x₁\n",
    "        r_QHO_1D(x) = 1.0;\n",
    "        return p_QHO_1D,q_QHO_1D,r_QHO_1D\n",
    "    elseif (switch_potential == \"QHO_2D\")\n",
    "        # 2D quantum harmonic oscillator potential\n",
    "        println(\"Set quantum harmonic oscillator 2D potential\");\n",
    "        ω,x₁,y₁=params;\n",
    "        p_QHO_2D(x) = 0.5*(ħ*ħ)*(1.0/m);                                       # kinetic energy\n",
    "        q_QHO_2D(x) = 0.5*m*(ω*ω)*((x[1]-x₁)*(x[1]-x₁)+(x[2]-y₁)*(x[2]-y₁));   # 2D harmonic osicllator centered in (x₁,y₁)\n",
    "        r_QHO_2D(x) = 1.0;\n",
    "        return p_QHO_2D,q_QHO_2D,r_QHO_2D\n",
    "    end\n",
    "end"
   ]
  },
  {
   "cell_type": "code",
   "execution_count": 127,
   "metadata": {},
   "outputs": [
    {
     "name": "stdout",
     "output_type": "stream",
     "text": [
      "Set quantum harmonic oscillator 2D potential\n"
     ]
    },
    {
     "data": {
      "text/plain": [
       "(var\"#p_QHO_2D#50\"{Float64, Float64}(1.0, 1.0), var\"#q_QHO_2D#51\"{Float64, Float64}(0.0, Core.Box(0.0), Core.Box(1.0), 1.0), var\"#r_QHO_2D#52\"())"
      ]
     },
     "metadata": {},
     "output_type": "display_data"
    }
   ],
   "source": [
    "p,q,r = eigenvalue_problem_functions((1.0,0.0,0.0);switch_potential = \"QHO_2D\")"
   ]
  },
  {
   "attachments": {},
   "cell_type": "markdown",
   "metadata": {},
   "source": [
    "### Check functions inside `EigenProblemSolveFunction.jl`"
   ]
  },
  {
   "cell_type": "code",
   "execution_count": 128,
   "metadata": {},
   "outputs": [
    {
     "data": {
      "text/plain": [
       "(ComplexF64[1.0006454857510692 + 6.371202552116489e-17im, 2.0025198370964614 + 1.3913431228188513e-17im, 2.002519837096465 + 5.4346795319831805e-17im, 3.0043941884418626 + 1.1076483977622532e-16im], CellField[SingleFieldFEFunction(), SingleFieldFEFunction(), SingleFieldFEFunction(), SingleFieldFEFunction()])"
      ]
     },
     "metadata": {},
     "output_type": "display_data"
    }
   ],
   "source": [
    "ϵ,ϕ = eigen_values_and_eigen_vectors(p,q,r,dΩ,USpace,VSpace;params=(4,10e-9,500,:none,0.0))"
   ]
  },
  {
   "attachments": {},
   "cell_type": "markdown",
   "metadata": {},
   "source": [
    "#### We build an array with exactly eigenenergie values to quantum 2D harmonic oscillator"
   ]
  },
  {
   "cell_type": "code",
   "execution_count": 129,
   "metadata": {},
   "outputs": [
    {
     "data": {
      "text/plain": [
       "exactly_eigenvalues_2dqho (generic function with 1 method)"
      ]
     },
     "metadata": {},
     "output_type": "display_data"
    }
   ],
   "source": [
    "function exactly_eigenvalues_2dqho(num_eigval::Integer)\n",
    "    ϵ_real_aux=Array{Float64}(undef, num_eigval^2)\n",
    "    index::Int64=1\n",
    "    for i in 1:num_eigval\n",
    "        for j in 1:num_eigval\n",
    "            ϵ_real_aux[index]=((i-1)+(j-1)+1)\n",
    "            index+=1\n",
    "        end\n",
    "    end\n",
    "    ϵ_real_aux=sort(ϵ_real_aux)\n",
    "    ϵ_real = ϵ_real_aux[1:num_eigval];\n",
    "    return ϵ_real\n",
    "end"
   ]
  },
  {
   "cell_type": "code",
   "execution_count": 130,
   "metadata": {},
   "outputs": [
    {
     "data": {
      "text/plain": [
       "4-element Vector{Float64}:\n",
       " 1.0\n",
       " 2.0\n",
       " 2.0\n",
       " 3.0"
      ]
     },
     "metadata": {},
     "output_type": "display_data"
    }
   ],
   "source": [
    "ϵ_real=exactly_eigenvalues_2dqho(length(ϵ))"
   ]
  },
  {
   "cell_type": "code",
   "execution_count": 131,
   "metadata": {},
   "outputs": [
    {
     "data": {
      "text/plain": [
       "\u001b[32m\u001b[1mTest Passed\u001b[22m\u001b[39m"
      ]
     },
     "metadata": {},
     "output_type": "display_data"
    }
   ],
   "source": [
    "@test real(ϵ) ≈ ϵ_real atol=0.1"
   ]
  },
  {
   "attachments": {},
   "cell_type": "markdown",
   "metadata": {},
   "source": [
    "#### We define useful functions to check the eigenvectors"
   ]
  },
  {
   "cell_type": "code",
   "execution_count": 132,
   "metadata": {},
   "outputs": [
    {
     "data": {
      "text/plain": [
       "norm_l2 (generic function with 1 method)"
      ]
     },
     "metadata": {},
     "output_type": "display_data"
    }
   ],
   "source": [
    "function norm_l2(𝜳::CellField,dΩ::Gridap.CellData.GenericMeasure)\n",
    "    return sqrt(real(sum(∫(𝜳'*𝜳)*dΩ)));\n",
    "end"
   ]
  },
  {
   "cell_type": "code",
   "execution_count": 133,
   "metadata": {},
   "outputs": [
    {
     "name": "stdout",
     "output_type": "stream",
     "text": [
      "\u001b[0m\u001b[1mTest Summary:      | \u001b[22m\u001b[32m\u001b[1mPass  \u001b[22m\u001b[39m\u001b[36m\u001b[1mTotal  \u001b[22m\u001b[39m\u001b[0m\u001b[1mTime\u001b[22m\n",
      "CheckNormalization | \u001b[32m   4  \u001b[39m\u001b[36m    4  \u001b[39m\u001b[0m0.0s\n"
     ]
    },
    {
     "data": {
      "text/plain": [
       "Test.DefaultTestSet(\"CheckNormalization\", Any[], 4, false, false, true, 1.684440444743038e9, 1.684440444762596e9, false)"
      ]
     },
     "metadata": {},
     "output_type": "display_data"
    }
   ],
   "source": [
    "@testset \"CheckNormalization\" begin\n",
    "    for i in eachindex(ϕ)\n",
    "        @test norm_l2(ϕ[1],dΩ) ≈ 1.0\n",
    "    end\n",
    "end\n"
   ]
  },
  {
   "cell_type": "code",
   "execution_count": 134,
   "metadata": {},
   "outputs": [
    {
     "data": {
      "text/plain": [
       "ortho_check_v2 (generic function with 1 method)"
      ]
     },
     "metadata": {},
     "output_type": "display_data"
    }
   ],
   "source": [
    "function ortho_check_v2(ϕ::Vector{CellField},TrialSpace::FESpace,dΩ::Gridap.CellData.GenericMeasure)\n",
    "    nev::Integer=length(ϕ)\n",
    "    OrthoVector=zeros(Float64,round(Int,(nev^2-nev)/2));\n",
    "    index::Int64=1\n",
    "    for i in 2:nev\n",
    "        for j in 1:(i-1)\n",
    "            OrthoVector[index]=abs(sum(∫(ϕ[j]'*ϕ[i])*dΩ))\n",
    "            index+=1\n",
    "        end\n",
    "    end\n",
    "    return OrthoVector;\n",
    "end"
   ]
  },
  {
   "cell_type": "code",
   "execution_count": 135,
   "metadata": {},
   "outputs": [
    {
     "data": {
      "text/plain": [
       "6-element Vector{Float64}:\n",
       " 5.220064297156833e-16\n",
       " 2.701854678449259e-16\n",
       " 0.061346998503368104\n",
       " 1.8189745349361495e-16\n",
       " 3.3402129452651347e-16\n",
       " 2.8061108949450754e-16"
      ]
     },
     "metadata": {},
     "output_type": "display_data"
    }
   ],
   "source": [
    "ortho_check_v2(ϕ,USpace,dΩ)"
   ]
  },
  {
   "cell_type": "code",
   "execution_count": 136,
   "metadata": {},
   "outputs": [
    {
     "name": "stdout",
     "output_type": "stream",
     "text": [
      "\u001b[0m\u001b[1mTest Summary:           | \u001b[22m\u001b[32m\u001b[1mPass  \u001b[22m\u001b[39m\u001b[36m\u001b[1mTotal  \u001b[22m\u001b[39m\u001b[0m\u001b[1mTime\u001b[22m\n",
      "Check orthogonalization | \u001b[32m   4  \u001b[39m\u001b[36m    4  \u001b[39m\u001b[0m0.1s\n"
     ]
    },
    {
     "data": {
      "text/plain": [
       "Test.DefaultTestSet(\"Check orthogonalization\", Any[], 4, false, false, true, 1.684440444952778e9, 1.684440445024201e9, false)"
      ]
     },
     "metadata": {},
     "output_type": "display_data"
    }
   ],
   "source": [
    "@testset \"Check orthogonalization\" begin\n",
    "    for i in eachindex(ϕ)\n",
    "        @test Float64(ortho_check_v2(ϕ,USpace,dΩ)[i]) ≈ zero(Float64) atol=Float64(0.1)\n",
    "    end\n",
    "end"
   ]
  }
 ],
 "metadata": {
  "kernelspec": {
   "display_name": "Julia 1.9.0",
   "language": "julia",
   "name": "julia-1.9"
  },
  "language_info": {
   "file_extension": ".jl",
   "mimetype": "application/julia",
   "name": "julia",
   "version": "1.9.0"
  },
  "orig_nbformat": 4
 },
 "nbformat": 4,
 "nbformat_minor": 2
}
