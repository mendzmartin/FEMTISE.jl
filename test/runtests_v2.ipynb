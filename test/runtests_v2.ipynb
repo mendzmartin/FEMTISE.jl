{
 "cells": [
  {
   "cell_type": "code",
   "execution_count": 1,
   "metadata": {},
   "outputs": [
    {
     "name": "stderr",
     "output_type": "stream",
     "text": [
      "\u001b[32m\u001b[1m  Activating\u001b[22m\u001b[39m project at `~/github_repositories/my_repositories/SteadyStateSchrodingerEquation`\n"
     ]
    }
   ],
   "source": [
    "using Pkg\n",
    "Pkg.activate(\"../\")"
   ]
  },
  {
   "cell_type": "code",
   "execution_count": 2,
   "metadata": {},
   "outputs": [],
   "source": [
    "#= Pkg.add(\"Gridap\");\n",
    "Pkg.add(\"GridapGmsh\");\n",
    "Pkg.add(\"Gmsh\");\n",
    "Pkg.add(\"FileIO\");\n",
    "Pkg.add(\"LinearAlgebra\");\n",
    "Pkg.add(\"SparseArrays\");\n",
    "Pkg.add(\"Arpack\"); =#"
   ]
  },
  {
   "cell_type": "code",
   "execution_count": 3,
   "metadata": {},
   "outputs": [],
   "source": [
    "#= Pkg.status() =#"
   ]
  },
  {
   "cell_type": "code",
   "execution_count": 4,
   "metadata": {},
   "outputs": [],
   "source": [
    "using Gridap\n",
    "using GridapGmsh\n",
    "using Gmsh\n",
    "using FileIO\n",
    "using LinearAlgebra\n",
    "using SparseArrays\n",
    "using SuiteSparse\n",
    "using Arpack"
   ]
  },
  {
   "cell_type": "code",
   "execution_count": 5,
   "metadata": {},
   "outputs": [
    {
     "data": {
      "text/plain": [
       "Main.SteadyStateSchrodingerEquation"
      ]
     },
     "metadata": {},
     "output_type": "display_data"
    }
   ],
   "source": [
    "include(\"../src/SteadyStateSchrodingerEquation.jl\")"
   ]
  },
  {
   "cell_type": "code",
   "execution_count": 6,
   "metadata": {},
   "outputs": [],
   "source": [
    "using .SteadyStateSchrodingerEquation"
   ]
  },
  {
   "attachments": {},
   "cell_type": "markdown",
   "metadata": {},
   "source": [
    "### Chequeamos functiones dentro de `MeshGeneratorFunction.jl`"
   ]
  },
  {
   "cell_type": "code",
   "execution_count": 7,
   "metadata": {},
   "outputs": [],
   "source": [
    "dom2D=(-1.0,1.0,-1.0,1.0);nxy=(10,10);params_model=((dom2D,nxy));\n",
    "grid_type=\"Cartesian2D\";"
   ]
  },
  {
   "cell_type": "code",
   "execution_count": 8,
   "metadata": {},
   "outputs": [],
   "source": [
    "model2D=make_model(grid_type,params_model);"
   ]
  },
  {
   "cell_type": "code",
   "execution_count": 9,
   "metadata": {},
   "outputs": [],
   "source": [
    "#= using Gridap\n",
    "writevtk(model2d,\"hola\") =#"
   ]
  },
  {
   "attachments": {},
   "cell_type": "markdown",
   "metadata": {},
   "source": [
    "### Chequeamos funciones dentro de `BoundaryConditionsFunction.jl`"
   ]
  },
  {
   "cell_type": "code",
   "execution_count": 10,
   "metadata": {},
   "outputs": [],
   "source": [
    "BC_type=\"FullDirichlet\";\n",
    "FullDirichlet_values,FullDirichlet_tags=make_boundary_conditions(grid_type,BC_type,ComplexF64);"
   ]
  },
  {
   "attachments": {},
   "cell_type": "markdown",
   "metadata": {},
   "source": [
    "### Chequeamos funciones dentro de `MiscellaneousFunctions.jl`"
   ]
  },
  {
   "cell_type": "code",
   "execution_count": 11,
   "metadata": {},
   "outputs": [
    {
     "data": {
      "text/plain": [
       "(BodyFittedTriangulation(), GenericMeasure(), BoundaryTriangulation(), GenericMeasure())"
      ]
     },
     "metadata": {},
     "output_type": "display_data"
    }
   ],
   "source": [
    "Ω,dΩ,Γ,dΓ = measures(model2D,3,FullDirichlet_tags)"
   ]
  },
  {
   "cell_type": "code",
   "execution_count": 12,
   "metadata": {},
   "outputs": [
    {
     "data": {
      "text/plain": [
       "(Lagrangian(), (Float64, 2), Base.Pairs{Symbol, Union{}, Tuple{}, NamedTuple{(), Tuple{}}}())"
      ]
     },
     "metadata": {},
     "output_type": "display_data"
    }
   ],
   "source": [
    "reff = ReferenceFE(lagrangian,Float64,2)"
   ]
  },
  {
   "cell_type": "code",
   "execution_count": 13,
   "metadata": {},
   "outputs": [
    {
     "data": {
      "text/plain": [
       "(UnconstrainedFESpace(), TrialFESpace())"
      ]
     },
     "metadata": {},
     "output_type": "display_data"
    }
   ],
   "source": [
    "VSpace,USpace = FESpaces(model2D,reff,grid_type;BC_type=BC_type,TypeData=ComplexF64)"
   ]
  },
  {
   "attachments": {},
   "cell_type": "markdown",
   "metadata": {},
   "source": [
    "Construimos funciones para escribir una formulación de tipo Sturm-Liouville particular"
   ]
  },
  {
   "cell_type": "code",
   "execution_count": 14,
   "metadata": {},
   "outputs": [],
   "source": [
    "using Printf"
   ]
  },
  {
   "cell_type": "code",
   "execution_count": 21,
   "metadata": {},
   "outputs": [
    {
     "data": {
      "text/plain": [
       "eigenvalue_problem_functions (generic function with 1 method)"
      ]
     },
     "metadata": {},
     "output_type": "display_data"
    }
   ],
   "source": [
    "const ħ=1.0;\n",
    "const m=1.0;\n",
    "function eigenvalue_problem_functions(params;switch_potential = \"QHO_1D\")\n",
    "    if (switch_potential == \"QHO_1D\")\n",
    "        # caso de potencial tipo quantum harmonic oscillator 1D (QHO)\n",
    "        @printf(\"Set quantum harmonic oscillator 1D potential\\n\");\n",
    "        ω,x₁=params;\n",
    "        pₕ_QHO_1D(x) = 0.5*(ħ*ħ)*(1.0/m);                                      # factor para energía cinética\n",
    "        qₕ_QHO_1D(x) = 0.5*m*(ω*ω)*(x[1]-x₁)*(x[1]-x₁);                        # oscilador armónico 1D centrado en x₁\n",
    "        rₕ_QHO_1D(x) = 1.0;\n",
    "        return pₕ_QHO_1D,qₕ_QHO_1D,rₕ_QHO_1D;\n",
    "    elseif (switch_potential == \"QHO_2D\")\n",
    "        # caso de potencial tipo quantum harmonic oscillator 2D (QHO)\n",
    "        @printf(\"Set quantum harmonic oscillator 2D potential\\n\");\n",
    "        ω,x₁,y₁=params;\n",
    "        pₕ_QHO_2D(x) = 0.5*(ħ*ħ)*(1.0/m);                                       # factor para energía cinética\n",
    "        qₕ_QHO_2D(x) = 0.5*m*(ω*ω)*((x[1]-x₁)*(x[1]-x₁)+(x[2]-y₁)*(x[2]-y₁));   # oscilador armónico 2D centrado en (x₁,y₁)\n",
    "        rₕ_QHO_2D(x) = 1.0;\n",
    "        return pₕ_QHO_2D,qₕ_QHO_2D,rₕ_QHO_2D;\n",
    "    elseif (switch_potential == \"FWP\")\n",
    "        # caso de potencial tipo finite well potential (FWP)\n",
    "        @printf(\"Set quantum finite well potential\\n\");\n",
    "        V₀_FWP,a_FWP=params;\n",
    "        pₕ_FWP(x) = 0.5*(ħ*ħ)*(1.0/m);                                          # factor para energía cinética\n",
    "        qₕ_FWP(x) = interval.(x[1],-a_FWP,a_FWP,V₀_FWP)\n",
    "        rₕ_FWP(x) = 1.0;\n",
    "        return pₕ_FWP,qₕ_FWP,rₕ_FWP;\n",
    "    elseif (switch_potential == \"Electron_Nuclear_Potential_1D\")\n",
    "        # caso de potencial tipo interacción electron-nucleo en pozo nuclear\n",
    "        @printf(\"Set Electron-Nuclear potential with fixed R\\n\");\n",
    "        R,R₁,R₂,Rc,Rf=params;\n",
    "        pₕ_ENP_1D(x) = 0.5*(ħ*ħ)*(1.0/m);                                          # factor para energía cinética\n",
    "        qₕ_ENP_1D(x) = CoulombPotential(R,R₁)+CoulombPotential(R,R₂)+\n",
    "            Aprox_Coulomb_Potential(x[1],R₁,Rf)+Aprox_Coulomb_Potential(x[1],R,Rc)+Aprox_Coulomb_Potential(x[1],R₂,Rf)\n",
    "        rₕ_ENP_1D(x) = 1.0;\n",
    "        return pₕ_ENP_1D,qₕ_ENP_1D,rₕ_ENP_1D;\n",
    "    elseif (switch_potential == \"Electron_Nuclear_Potential_2D\")\n",
    "        # caso de potencial tipo interacción electron-nucleo en pozo nuclear\n",
    "        @printf(\"Set Electron-Nuclear potential\\n\");\n",
    "        R₁,R₂,Rc,Rf=params;\n",
    "        pₕ_ENP_2D(x) = 0.5*(ħ*ħ)*(1.0/m);     # factor para energía cinética\n",
    "        qₕ_ENP_2D(x) = CoulombPotential(x[2]*(1.0/γ),R₁)+CoulombPotential(x[2]*(1.0/γ),R₂)+\n",
    "            Aprox_Coulomb_Potential(x[1],R₁,Rf)+Aprox_Coulomb_Potential(x[1],x[2]*(1.0/γ),Rc)+Aprox_Coulomb_Potential(x[1],R₂,Rf)\n",
    "        rₕ_ENP_2D(x) = 1.0;\n",
    "        return pₕ_ENP_2D,qₕ_ENP_2D,rₕ_ENP_2D;\n",
    "    end\n",
    "end"
   ]
  },
  {
   "cell_type": "code",
   "execution_count": 22,
   "metadata": {},
   "outputs": [
    {
     "name": "stdout",
     "output_type": "stream",
     "text": [
      "Set quantum harmonic oscillator 2D potential\n"
     ]
    },
    {
     "data": {
      "text/plain": [
       "(var\"#pₕ_QHO_2D#47\"(), var\"#qₕ_QHO_2D#48\"{Float64}(0.0, Core.Box(0.0), Core.Box(1.0)), var\"#rₕ_QHO_2D#49\"())"
      ]
     },
     "metadata": {},
     "output_type": "display_data"
    }
   ],
   "source": [
    "p,q,r = eigenvalue_problem_functions((1.0,0.0,0.0);switch_potential = \"QHO_2D\")"
   ]
  },
  {
   "attachments": {},
   "cell_type": "markdown",
   "metadata": {},
   "source": [
    "### Chequeamos funciones dentro de `EigenProblemSolveFunction.jl`"
   ]
  },
  {
   "cell_type": "code",
   "execution_count": 23,
   "metadata": {},
   "outputs": [
    {
     "data": {
      "text/plain": [
       "(ComplexF64[2.5969681919949563 + 6.970520979061812e-17im, 6.376116799836291 + 1.801837033651666e-16im, 6.376116799836299 - 2.4687596813292126e-16im, 10.155265407677616 - 2.2007814920120522e-16im, 12.580402282186753 - 1.6538989482112496e-16im, 12.580402282186798 - 6.106831889442633e-16im, 16.35955089002805 - 2.426519582772567e-16im, 16.359550890028117 - 2.8633558672169306e-16im, 21.324125206189777 + 2.5466631674742934e-16im, 21.324125206189848 + 7.613474859600007e-16im], CellField[SingleFieldFEFunction(), SingleFieldFEFunction(), SingleFieldFEFunction(), SingleFieldFEFunction(), SingleFieldFEFunction(), SingleFieldFEFunction(), SingleFieldFEFunction(), SingleFieldFEFunction(), SingleFieldFEFunction(), SingleFieldFEFunction()])"
      ]
     },
     "metadata": {},
     "output_type": "display_data"
    }
   ],
   "source": [
    "ϵ,ϕ = EigenValuesAndEigenVectors(p,q,r,dΩ,USpace,VSpace)"
   ]
  }
 ],
 "metadata": {
  "kernelspec": {
   "display_name": "Julia 1.9.0",
   "language": "julia",
   "name": "julia-1.9"
  },
  "language_info": {
   "file_extension": ".jl",
   "mimetype": "application/julia",
   "name": "julia",
   "version": "1.9.0"
  },
  "orig_nbformat": 4
 },
 "nbformat": 4,
 "nbformat_minor": 2
}
