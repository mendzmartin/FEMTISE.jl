{
 "cells": [
  {
   "cell_type": "code",
   "execution_count": 1,
   "metadata": {},
   "outputs": [
    {
     "name": "stderr",
     "output_type": "stream",
     "text": [
      "\u001b[32m\u001b[1m  Activating\u001b[22m\u001b[39m project at `~/github_repositories/my_repositories/SteadyStateSchrodingerEquation`\n"
     ]
    }
   ],
   "source": [
    "using Pkg\n",
    "Pkg.activate(\"../\")"
   ]
  },
  {
   "cell_type": "code",
   "execution_count": 2,
   "metadata": {},
   "outputs": [],
   "source": [
    "#= Pkg.add(\"Gridap\");\n",
    "Pkg.add(\"GridapGmsh\");\n",
    "Pkg.add(\"Gmsh\");\n",
    "Pkg.add(\"FileIO\");\n",
    "Pkg.add(\"LinearAlgebra\");\n",
    "Pkg.add(\"SparseArrays\");\n",
    "Pkg.add(\"Arpack\"); =#"
   ]
  },
  {
   "cell_type": "code",
   "execution_count": 3,
   "metadata": {},
   "outputs": [],
   "source": [
    "#= Pkg.status() =#"
   ]
  },
  {
   "cell_type": "code",
   "execution_count": 4,
   "metadata": {},
   "outputs": [],
   "source": [
    "using Gridap\n",
    "using GridapGmsh\n",
    "using Gmsh\n",
    "using FileIO\n",
    "using LinearAlgebra\n",
    "using SparseArrays\n",
    "using SuiteSparse\n",
    "using Arpack"
   ]
  },
  {
   "cell_type": "code",
   "execution_count": 5,
   "metadata": {},
   "outputs": [
    {
     "data": {
      "text/plain": [
       "Main.SteadyStateSchrodingerEquation"
      ]
     },
     "metadata": {},
     "output_type": "display_data"
    }
   ],
   "source": [
    "include(\"../src/SteadyStateSchrodingerEquation.jl\")"
   ]
  },
  {
   "cell_type": "code",
   "execution_count": 6,
   "metadata": {},
   "outputs": [],
   "source": [
    "using .SteadyStateSchrodingerEquation"
   ]
  },
  {
   "attachments": {},
   "cell_type": "markdown",
   "metadata": {},
   "source": [
    "### Check functions inside `MeshGeneratorFunction.jl`"
   ]
  },
  {
   "cell_type": "code",
   "execution_count": 7,
   "metadata": {},
   "outputs": [],
   "source": [
    "dom2D=(-1.0,1.0,-1.0,1.0);nxy=(10,10);params_model=((dom2D,nxy));\n",
    "grid_type=\"Cartesian2D\";"
   ]
  },
  {
   "cell_type": "code",
   "execution_count": 8,
   "metadata": {},
   "outputs": [],
   "source": [
    "model2D=make_model(grid_type,params_model);"
   ]
  },
  {
   "cell_type": "code",
   "execution_count": 9,
   "metadata": {},
   "outputs": [],
   "source": [
    "#= using Gridap\n",
    "writevtk(model2d,\"hola\") =#"
   ]
  },
  {
   "attachments": {},
   "cell_type": "markdown",
   "metadata": {},
   "source": [
    "### Check functions inside `BoundaryConditionsFunction.jl`"
   ]
  },
  {
   "cell_type": "code",
   "execution_count": 10,
   "metadata": {},
   "outputs": [],
   "source": [
    "BC_type=\"FullDirichlet\";\n",
    "FullDirichlet_values,FullDirichlet_tags=make_boundary_conditions(grid_type,BC_type,ComplexF64);"
   ]
  },
  {
   "attachments": {},
   "cell_type": "markdown",
   "metadata": {},
   "source": [
    "### Check functions inside `MiscellaneousFunctions.jl`"
   ]
  },
  {
   "cell_type": "code",
   "execution_count": 11,
   "metadata": {},
   "outputs": [
    {
     "data": {
      "text/plain": [
       "(BodyFittedTriangulation(), GenericMeasure(), BoundaryTriangulation(), GenericMeasure())"
      ]
     },
     "metadata": {},
     "output_type": "display_data"
    }
   ],
   "source": [
    "Ω,dΩ,Γ,dΓ = measures(model2D,3,FullDirichlet_tags)"
   ]
  },
  {
   "cell_type": "code",
   "execution_count": 12,
   "metadata": {},
   "outputs": [
    {
     "data": {
      "text/plain": [
       "(Lagrangian(), (Float64, 2), Base.Pairs{Symbol, Union{}, Tuple{}, NamedTuple{(), Tuple{}}}())"
      ]
     },
     "metadata": {},
     "output_type": "display_data"
    }
   ],
   "source": [
    "reff = ReferenceFE(lagrangian,Float64,2)"
   ]
  },
  {
   "cell_type": "code",
   "execution_count": 13,
   "metadata": {},
   "outputs": [
    {
     "data": {
      "text/plain": [
       "(UnconstrainedFESpace(), TrialFESpace())"
      ]
     },
     "metadata": {},
     "output_type": "display_data"
    }
   ],
   "source": [
    "VSpace,USpace = FESpaces(model2D,reff,grid_type;BC_type=BC_type,TypeData=ComplexF64)"
   ]
  },
  {
   "attachments": {},
   "cell_type": "markdown",
   "metadata": {},
   "source": [
    "We build functions to write a specific Sturm-Liouville formulation"
   ]
  },
  {
   "cell_type": "code",
   "execution_count": 14,
   "metadata": {},
   "outputs": [],
   "source": [
    "using Printf"
   ]
  },
  {
   "cell_type": "code",
   "execution_count": 25,
   "metadata": {},
   "outputs": [
    {
     "data": {
      "text/plain": [
       "eigenvalue_problem_functions (generic function with 1 method)"
      ]
     },
     "metadata": {},
     "output_type": "display_data"
    }
   ],
   "source": [
    "const ħ=1.0;\n",
    "const m=1.0;\n",
    "function eigenvalue_problem_functions(params;switch_potential = \"QHO_1D\")\n",
    "    if (switch_potential == \"QHO_1D\")\n",
    "        # caso de potencial tipo quantum harmonic oscillator 1D (QHO)\n",
    "        @printf(\"Set quantum harmonic oscillator 1D potential\\n\");\n",
    "        ω,x₁=params;\n",
    "        p_QHO_1D(x) = 0.5*(ħ*ħ)*(1.0/m);                                      # factor para energía cinética\n",
    "        q_QHO_1D(x) = 0.5*m*(ω*ω)*(x[1]-x₁)*(x[1]-x₁);                        # oscilador armónico 1D centrado en x₁\n",
    "        r_QHO_1D(x) = 1.0;\n",
    "        return p_QHO_1D,q_QHO_1D,r_QHO_1D\n",
    "    elseif (switch_potential == \"QHO_2D\")\n",
    "        # caso de potencial tipo quantum harmonic oscillator 2D (QHO)\n",
    "        @printf(\"Set quantum harmonic oscillator 2D potential\\n\");\n",
    "        ω,x₁,y₁=params;\n",
    "        p_QHO_2D(x) = 0.5*(ħ*ħ)*(1.0/m);                                       # factor para energía cinética\n",
    "        q_QHO_2D(x) = 0.5*m*(ω*ω)*((x[1]-x₁)*(x[1]-x₁)+(x[2]-y₁)*(x[2]-y₁));   # oscilador armónico 2D centrado en (x₁,y₁)\n",
    "        r_QHO_2D(x) = 1.0;\n",
    "        return p_QHO_2D,q_QHO_2D,r_QHO_2D\n",
    "    end\n",
    "end"
   ]
  },
  {
   "cell_type": "code",
   "execution_count": 26,
   "metadata": {},
   "outputs": [
    {
     "name": "stdout",
     "output_type": "stream",
     "text": [
      "Set quantum harmonic oscillator 2D potential\n"
     ]
    },
    {
     "data": {
      "text/plain": [
       "(var\"#p_QHO_2D#25\"(), var\"#q_QHO_2D#26\"{Float64}(0.0, Core.Box(0.0), Core.Box(1.0)), var\"#r_QHO_2D#27\"())"
      ]
     },
     "metadata": {},
     "output_type": "display_data"
    }
   ],
   "source": [
    "p,q,r = eigenvalue_problem_functions((1.0,0.0,0.0);switch_potential = \"QHO_2D\")"
   ]
  },
  {
   "attachments": {},
   "cell_type": "markdown",
   "metadata": {},
   "source": [
    "### Check functions inside `EigenProblemSolveFunction.jl`"
   ]
  },
  {
   "cell_type": "code",
   "execution_count": 27,
   "metadata": {},
   "outputs": [
    {
     "data": {
      "text/plain": [
       "(ComplexF64[2.5969681919949545 - 9.332019410887933e-17im, 6.37611679983627 + 7.052494950038748e-17im, 6.376116799836275 + 1.410498990007752e-16im, 10.155265407677607 - 6.211971975455799e-16im], CellField[SingleFieldFEFunction(), SingleFieldFEFunction(), SingleFieldFEFunction(), SingleFieldFEFunction()])"
      ]
     },
     "metadata": {},
     "output_type": "display_data"
    }
   ],
   "source": [
    "ϵ,ϕ = EigenValuesAndEigenVectors(p,q,r,dΩ,USpace,VSpace;params=(4,10e-9,500,:none,0.0))"
   ]
  },
  {
   "cell_type": "code",
   "execution_count": 28,
   "metadata": {},
   "outputs": [],
   "source": [
    "ϵ_real = [i+1 for i in eachindex(ϵ)]\n",
    "for i in eachindex(ϵ)\n",
    "    for j in eachindex(ϵ)\n",
    "        result=(i+j+1)\n",
    "        (result ≤ ϵ_real[i]) ? ϵ_real[i]=result : nothing\n",
    "    end\n",
    "end"
   ]
  },
  {
   "cell_type": "code",
   "execution_count": 29,
   "metadata": {},
   "outputs": [],
   "source": [
    "using Plots"
   ]
  },
  {
   "cell_type": "code",
   "execution_count": 30,
   "metadata": {},
   "outputs": [
    {
     "data": {
      "text/plain": [
       "4-element Vector{Int64}:\n",
       " 2\n",
       " 3\n",
       " 4\n",
       " 5"
      ]
     },
     "metadata": {},
     "output_type": "display_data"
    }
   ],
   "source": [
    "ϵ_real"
   ]
  },
  {
   "cell_type": "code",
   "execution_count": 31,
   "metadata": {},
   "outputs": [
    {
     "data": {
      "text/plain": [
       "4-element Vector{Float64}:\n",
       "  2.5969681919949545\n",
       "  6.37611679983627\n",
       "  6.376116799836275\n",
       " 10.155265407677607"
      ]
     },
     "metadata": {},
     "output_type": "display_data"
    }
   ],
   "source": [
    "real(ϵ)"
   ]
  },
  {
   "cell_type": "code",
   "execution_count": 33,
   "metadata": {},
   "outputs": [
    {
     "data": {
      "image/png": "[encoded data removed]",
      "image/svg+xml": [
       "<?xml version=\"1.0\" encoding=\"utf-8\"?>\n",
       "<svg xmlns=\"http://www.w3.org/2000/svg\" xmlns:xlink=\"http://www.w3.org/1999/xlink\" width=\"600\" height=\"400\" viewBox=\"0 0 2400 1600\">\n",
       "<defs>\n",
       "  <clipPath id=\"clip140\">\n",
       "    <rect x=\"0\" y=\"0\" width=\"2400\" height=\"1600\"/>\n",
       "  </clipPath>\n",
       "</defs>\n",
       "<path clip-path=\"url(#clip140)\" d=\"M0 1600 L2400 1600 L2400 0 L0 0  Z\" fill=\"#ffffff\" fill-rule=\"evenodd\" fill-opacity=\"1\"/>\n",
       "<defs>\n",
       "  <clipPath id=\"clip141\">\n",
       "    <rect x=\"480\" y=\"0\" width=\"1681\" height=\"1600\"/>\n",
       "  </clipPath>\n",
       "</defs>\n",
       "<path clip-path=\"url(#clip140)\" d=\"M138.959 1486.45 L2352.76 1486.45 L2352.76 47.2441 L138.959 47.2441  Z\" fill=\"#ffffff\" fill-rule=\"evenodd\" fill-opacity=\"1\"/>\n",
       "<defs>\n",
       "  <clipPath id=\"clip142\">\n",
       "    <rect x=\"138\" y=\"47\" width=\"2215\" height=\"1440\"/>\n",
       "  </clipPath>\n",
       "</defs>\n",
       "<polyline clip-path=\"url(#clip142)\" style=\"stroke:#000000; stroke-linecap:round; stroke-linejoin:round; stroke-width:2; stroke-opacity:0.1; fill:none\" points=\"201.614,1486.45 201.614,47.2441 \"/>\n",
       "<polyline clip-path=\"url(#clip142)\" style=\"stroke:#000000; stroke-linecap:round; stroke-linejoin:round; stroke-width:2; stroke-opacity:0.1; fill:none\" points=\"897.776,1486.45 897.776,47.2441 \"/>\n",
       "<polyline clip-path=\"url(#clip142)\" style=\"stroke:#000000; stroke-linecap:round; stroke-linejoin:round; stroke-width:2; stroke-opacity:0.1; fill:none\" points=\"1593.94,1486.45 1593.94,47.2441 \"/>\n",
       "<polyline clip-path=\"url(#clip142)\" style=\"stroke:#000000; stroke-linecap:round; stroke-linejoin:round; stroke-width:2; stroke-opacity:0.1; fill:none\" points=\"2290.1,1486.45 2290.1,47.2441 \"/>\n",
       "<polyline clip-path=\"url(#clip140)\" style=\"stroke:#000000; stroke-linecap:round; stroke-linejoin:round; stroke-width:4; stroke-opacity:1; fill:none\" points=\"138.959,1486.45 2352.76,1486.45 \"/>\n",
       "<polyline clip-path=\"url(#clip140)\" style=\"stroke:#000000; stroke-linecap:round; stroke-linejoin:round; stroke-width:4; stroke-opacity:1; fill:none\" points=\"201.614,1486.45 201.614,1467.55 \"/>\n",
       "<polyline clip-path=\"url(#clip140)\" style=\"stroke:#000000; stroke-linecap:round; stroke-linejoin:round; stroke-width:4; stroke-opacity:1; fill:none\" points=\"897.776,1486.45 897.776,1467.55 \"/>\n",
       "<polyline clip-path=\"url(#clip140)\" style=\"stroke:#000000; stroke-linecap:round; stroke-linejoin:round; stroke-width:4; stroke-opacity:1; fill:none\" points=\"1593.94,1486.45 1593.94,1467.55 \"/>\n",
       "<polyline clip-path=\"url(#clip140)\" style=\"stroke:#000000; stroke-linecap:round; stroke-linejoin:round; stroke-width:4; stroke-opacity:1; fill:none\" points=\"2290.1,1486.45 2290.1,1467.55 \"/>\n",
       "<path clip-path=\"url(#clip140)\" d=\"M191.996 1544.91 L199.635 1544.91 L199.635 1518.55 L191.325 1520.21 L191.325 1515.95 L199.589 1514.29 L204.265 1514.29 L204.265 1544.91 L211.903 1544.91 L211.903 1548.85 L191.996 1548.85 L191.996 1544.91 Z\" fill=\"#000000\" fill-rule=\"nonzero\" fill-opacity=\"1\" /><path clip-path=\"url(#clip140)\" d=\"M892.429 1544.91 L908.749 1544.91 L908.749 1548.85 L886.804 1548.85 L886.804 1544.91 Q889.466 1542.16 894.05 1537.53 Q898.656 1532.88 899.837 1531.53 Q902.082 1529.01 902.962 1527.27 Q903.864 1525.51 903.864 1523.82 Q903.864 1521.07 901.92 1519.33 Q899.999 1517.6 896.897 1517.6 Q894.698 1517.6 892.244 1518.36 Q889.814 1519.13 887.036 1520.68 L887.036 1515.95 Q889.86 1514.82 892.314 1514.24 Q894.767 1513.66 896.804 1513.66 Q902.175 1513.66 905.369 1516.35 Q908.563 1519.03 908.563 1523.52 Q908.563 1525.65 907.753 1527.57 Q906.966 1529.47 904.86 1532.07 Q904.281 1532.74 901.179 1535.95 Q898.077 1539.15 892.429 1544.91 Z\" fill=\"#000000\" fill-rule=\"nonzero\" fill-opacity=\"1\" /><path clip-path=\"url(#clip140)\" d=\"M1598.19 1530.21 Q1601.54 1530.93 1603.42 1533.2 Q1605.32 1535.47 1605.32 1538.8 Q1605.32 1543.92 1601.8 1546.72 Q1598.28 1549.52 1591.8 1549.52 Q1589.62 1549.52 1587.31 1549.08 Q1585.02 1548.66 1582.56 1547.81 L1582.56 1543.29 Q1584.51 1544.43 1586.82 1545.01 Q1589.14 1545.58 1591.66 1545.58 Q1596.06 1545.58 1598.35 1543.85 Q1600.66 1542.11 1600.66 1538.8 Q1600.66 1535.75 1598.51 1534.03 Q1596.38 1532.3 1592.56 1532.3 L1588.53 1532.3 L1588.53 1528.45 L1592.75 1528.45 Q1596.2 1528.45 1598.02 1527.09 Q1599.85 1525.7 1599.85 1523.11 Q1599.85 1520.45 1597.96 1519.03 Q1596.08 1517.6 1592.56 1517.6 Q1590.64 1517.6 1588.44 1518.01 Q1586.24 1518.43 1583.6 1519.31 L1583.6 1515.14 Q1586.27 1514.4 1588.58 1514.03 Q1590.92 1513.66 1592.98 1513.66 Q1598.3 1513.66 1601.4 1516.09 Q1604.51 1518.5 1604.51 1522.62 Q1604.51 1525.49 1602.86 1527.48 Q1601.22 1529.45 1598.19 1530.21 Z\" fill=\"#000000\" fill-rule=\"nonzero\" fill-opacity=\"1\" /><path clip-path=\"url(#clip140)\" d=\"M2293.11 1518.36 L2281.31 1536.81 L2293.11 1536.81 L2293.11 1518.36 M2291.88 1514.29 L2297.76 1514.29 L2297.76 1536.81 L2302.69 1536.81 L2302.69 1540.7 L2297.76 1540.7 L2297.76 1548.85 L2293.11 1548.85 L2293.11 1540.7 L2277.51 1540.7 L2277.51 1536.19 L2291.88 1514.29 Z\" fill=\"#000000\" fill-rule=\"nonzero\" fill-opacity=\"1\" /><polyline clip-path=\"url(#clip142)\" style=\"stroke:#000000; stroke-linecap:round; stroke-linejoin:round; stroke-width:2; stroke-opacity:0.1; fill:none\" points=\"138.959,1486.45 2352.76,1486.45 \"/>\n",
       "<polyline clip-path=\"url(#clip142)\" style=\"stroke:#000000; stroke-linecap:round; stroke-linejoin:round; stroke-width:2; stroke-opacity:0.1; fill:none\" points=\"138.959,1198.61 2352.76,1198.61 \"/>\n",
       "<polyline clip-path=\"url(#clip142)\" style=\"stroke:#000000; stroke-linecap:round; stroke-linejoin:round; stroke-width:2; stroke-opacity:0.1; fill:none\" points=\"138.959,910.766 2352.76,910.766 \"/>\n",
       "<polyline clip-path=\"url(#clip142)\" style=\"stroke:#000000; stroke-linecap:round; stroke-linejoin:round; stroke-width:2; stroke-opacity:0.1; fill:none\" points=\"138.959,622.926 2352.76,622.926 \"/>\n",
       "<polyline clip-path=\"url(#clip142)\" style=\"stroke:#000000; stroke-linecap:round; stroke-linejoin:round; stroke-width:2; stroke-opacity:0.1; fill:none\" points=\"138.959,335.085 2352.76,335.085 \"/>\n",
       "<polyline clip-path=\"url(#clip142)\" style=\"stroke:#000000; stroke-linecap:round; stroke-linejoin:round; stroke-width:2; stroke-opacity:0.1; fill:none\" points=\"138.959,47.2441 2352.76,47.2441 \"/>\n",
       "<polyline clip-path=\"url(#clip140)\" style=\"stroke:#000000; stroke-linecap:round; stroke-linejoin:round; stroke-width:4; stroke-opacity:1; fill:none\" points=\"138.959,1486.45 138.959,47.2441 \"/>\n",
       "<polyline clip-path=\"url(#clip140)\" style=\"stroke:#000000; stroke-linecap:round; stroke-linejoin:round; stroke-width:4; stroke-opacity:1; fill:none\" points=\"138.959,1486.45 157.857,1486.45 \"/>\n",
       "<polyline clip-path=\"url(#clip140)\" style=\"stroke:#000000; stroke-linecap:round; stroke-linejoin:round; stroke-width:4; stroke-opacity:1; fill:none\" points=\"138.959,1198.61 157.857,1198.61 \"/>\n",
       "<polyline clip-path=\"url(#clip140)\" style=\"stroke:#000000; stroke-linecap:round; stroke-linejoin:round; stroke-width:4; stroke-opacity:1; fill:none\" points=\"138.959,910.766 157.857,910.766 \"/>\n",
       "<polyline clip-path=\"url(#clip140)\" style=\"stroke:#000000; stroke-linecap:round; stroke-linejoin:round; stroke-width:4; stroke-opacity:1; fill:none\" points=\"138.959,622.926 157.857,622.926 \"/>\n",
       "<polyline clip-path=\"url(#clip140)\" style=\"stroke:#000000; stroke-linecap:round; stroke-linejoin:round; stroke-width:4; stroke-opacity:1; fill:none\" points=\"138.959,335.085 157.857,335.085 \"/>\n",
       "<polyline clip-path=\"url(#clip140)\" style=\"stroke:#000000; stroke-linecap:round; stroke-linejoin:round; stroke-width:4; stroke-opacity:1; fill:none\" points=\"138.959,47.2441 157.857,47.2441 \"/>\n",
       "<path clip-path=\"url(#clip140)\" d=\"M91.0151 1472.25 Q87.404 1472.25 85.5753 1475.81 Q83.7697 1479.35 83.7697 1486.48 Q83.7697 1493.59 85.5753 1497.15 Q87.404 1500.7 91.0151 1500.7 Q94.6493 1500.7 96.4548 1497.15 Q98.2835 1493.59 98.2835 1486.48 Q98.2835 1479.35 96.4548 1475.81 Q94.6493 1472.25 91.0151 1472.25 M91.0151 1468.54 Q96.8252 1468.54 99.8808 1473.15 Q102.959 1477.73 102.959 1486.48 Q102.959 1495.21 99.8808 1499.82 Q96.8252 1504.4 91.0151 1504.4 Q85.2049 1504.4 82.1262 1499.82 Q79.0707 1495.21 79.0707 1486.48 Q79.0707 1477.73 82.1262 1473.15 Q85.2049 1468.54 91.0151 1468.54 Z\" fill=\"#000000\" fill-rule=\"nonzero\" fill-opacity=\"1\" /><path clip-path=\"url(#clip140)\" d=\"M86.6401 1211.95 L102.959 1211.95 L102.959 1215.89 L81.0151 1215.89 L81.0151 1211.95 Q83.6771 1209.2 88.2604 1204.57 Q92.8669 1199.91 94.0475 1198.57 Q96.2928 1196.05 97.1724 1194.31 Q98.0752 1192.55 98.0752 1190.86 Q98.0752 1188.11 96.1308 1186.37 Q94.2095 1184.64 91.1077 1184.64 Q88.9086 1184.64 86.4549 1185.4 Q84.0244 1186.17 81.2466 1187.72 L81.2466 1182.99 Q84.0707 1181.86 86.5243 1181.28 Q88.978 1180.7 91.0151 1180.7 Q96.3854 1180.7 99.5798 1183.39 Q102.774 1186.07 102.774 1190.56 Q102.774 1192.69 101.964 1194.61 Q101.177 1196.51 99.0706 1199.1 Q98.4919 1199.78 95.39 1202.99 Q92.2882 1206.19 86.6401 1211.95 Z\" fill=\"#000000\" fill-rule=\"nonzero\" fill-opacity=\"1\" /><path clip-path=\"url(#clip140)\" d=\"M93.3762 897.56 L81.5707 916.009 L93.3762 916.009 L93.3762 897.56 M92.1493 893.486 L98.0289 893.486 L98.0289 916.009 L102.959 916.009 L102.959 919.898 L98.0289 919.898 L98.0289 928.046 L93.3762 928.046 L93.3762 919.898 L77.7744 919.898 L77.7744 915.384 L92.1493 893.486 Z\" fill=\"#000000\" fill-rule=\"nonzero\" fill-opacity=\"1\" /><path clip-path=\"url(#clip140)\" d=\"M91.4317 621.062 Q88.2836 621.062 86.4318 623.215 Q84.6031 625.368 84.6031 629.118 Q84.6031 632.845 86.4318 635.02 Q88.2836 637.173 91.4317 637.173 Q94.5799 637.173 96.4085 635.02 Q98.2604 632.845 98.2604 629.118 Q98.2604 625.368 96.4085 623.215 Q94.5799 621.062 91.4317 621.062 M100.714 606.409 L100.714 610.669 Q98.9548 609.835 97.1493 609.396 Q95.3669 608.956 93.6076 608.956 Q88.978 608.956 86.5243 612.081 Q84.0938 615.206 83.7466 621.525 Q85.1123 619.511 87.1725 618.446 Q89.2327 617.359 91.7095 617.359 Q96.9178 617.359 99.927 620.53 Q102.959 623.678 102.959 629.118 Q102.959 634.442 99.8113 637.659 Q96.6632 640.877 91.4317 640.877 Q85.4364 640.877 82.2651 636.294 Q79.0938 631.687 79.0938 622.96 Q79.0938 614.766 82.9827 609.905 Q86.8716 605.021 93.4225 605.021 Q95.1817 605.021 96.9641 605.368 Q98.7696 605.715 100.714 606.409 Z\" fill=\"#000000\" fill-rule=\"nonzero\" fill-opacity=\"1\" /><path clip-path=\"url(#clip140)\" d=\"M91.1077 335.953 Q87.7743 335.953 85.8531 337.735 Q83.9549 339.518 83.9549 342.643 Q83.9549 345.768 85.8531 347.55 Q87.7743 349.332 91.1077 349.332 Q94.441 349.332 96.3623 347.55 Q98.2835 345.745 98.2835 342.643 Q98.2835 339.518 96.3623 337.735 Q94.4641 335.953 91.1077 335.953 M86.4318 333.962 Q83.4225 333.221 81.7327 331.161 Q80.066 329.101 80.066 326.138 Q80.066 321.995 83.0058 319.587 Q85.9688 317.18 91.1077 317.18 Q96.2697 317.18 99.2095 319.587 Q102.149 321.995 102.149 326.138 Q102.149 329.101 100.459 331.161 Q98.7928 333.221 95.8067 333.962 Q99.1863 334.749 101.061 337.041 Q102.959 339.333 102.959 342.643 Q102.959 347.666 99.8808 350.351 Q96.8252 353.036 91.1077 353.036 Q85.3901 353.036 82.3114 350.351 Q79.2559 347.666 79.2559 342.643 Q79.2559 339.333 81.154 337.041 Q83.0521 334.749 86.4318 333.962 M84.7188 326.578 Q84.7188 329.263 86.3855 330.768 Q88.0753 332.272 91.1077 332.272 Q94.1169 332.272 95.8067 330.768 Q97.5197 329.263 97.5197 326.578 Q97.5197 323.893 95.8067 322.388 Q94.1169 320.884 91.1077 320.884 Q88.0753 320.884 86.3855 322.388 Q84.7188 323.893 84.7188 326.578 Z\" fill=\"#000000\" fill-rule=\"nonzero\" fill-opacity=\"1\" /><path clip-path=\"url(#clip140)\" d=\"M51.6634 60.5889 L59.3023 60.5889 L59.3023 34.2233 L50.9921 35.89 L50.9921 31.6308 L59.256 29.9641 L63.9319 29.9641 L63.9319 60.5889 L71.5707 60.5889 L71.5707 64.5241 L51.6634 64.5241 L51.6634 60.5889 Z\" fill=\"#000000\" fill-rule=\"nonzero\" fill-opacity=\"1\" /><path clip-path=\"url(#clip140)\" d=\"M91.0151 33.0428 Q87.404 33.0428 85.5753 36.6076 Q83.7697 40.1492 83.7697 47.2788 Q83.7697 54.3853 85.5753 57.9501 Q87.404 61.4917 91.0151 61.4917 Q94.6493 61.4917 96.4548 57.9501 Q98.2835 54.3853 98.2835 47.2788 Q98.2835 40.1492 96.4548 36.6076 Q94.6493 33.0428 91.0151 33.0428 M91.0151 29.3391 Q96.8252 29.3391 99.8808 33.9456 Q102.959 38.5289 102.959 47.2788 Q102.959 56.0056 99.8808 60.6121 Q96.8252 65.1954 91.0151 65.1954 Q85.2049 65.1954 82.1262 60.6121 Q79.0707 56.0056 79.0707 47.2788 Q79.0707 38.5289 82.1262 33.9456 Q85.2049 29.3391 91.0151 29.3391 Z\" fill=\"#000000\" fill-rule=\"nonzero\" fill-opacity=\"1\" /><circle clip-path=\"url(#clip142)\" cx=\"201.614\" cy=\"1112.69\" r=\"14.4\" fill=\"#009af9\" fill-rule=\"evenodd\" fill-opacity=\"1\" stroke=\"#000000\" stroke-opacity=\"1\" stroke-width=\"3.2\"/>\n",
       "<circle clip-path=\"url(#clip142)\" cx=\"897.776\" cy=\"568.795\" r=\"14.4\" fill=\"#009af9\" fill-rule=\"evenodd\" fill-opacity=\"1\" stroke=\"#000000\" stroke-opacity=\"1\" stroke-width=\"3.2\"/>\n",
       "<circle clip-path=\"url(#clip142)\" cx=\"1593.94\" cy=\"568.795\" r=\"14.4\" fill=\"#009af9\" fill-rule=\"evenodd\" fill-opacity=\"1\" stroke=\"#000000\" stroke-opacity=\"1\" stroke-width=\"3.2\"/>\n",
       "<circle clip-path=\"url(#clip142)\" cx=\"201.614\" cy=\"1198.61\" r=\"14.4\" fill=\"#e26f46\" fill-rule=\"evenodd\" fill-opacity=\"1\" stroke=\"#000000\" stroke-opacity=\"1\" stroke-width=\"3.2\"/>\n",
       "<circle clip-path=\"url(#clip142)\" cx=\"897.776\" cy=\"1054.69\" r=\"14.4\" fill=\"#e26f46\" fill-rule=\"evenodd\" fill-opacity=\"1\" stroke=\"#000000\" stroke-opacity=\"1\" stroke-width=\"3.2\"/>\n",
       "<circle clip-path=\"url(#clip142)\" cx=\"1593.94\" cy=\"910.766\" r=\"14.4\" fill=\"#e26f46\" fill-rule=\"evenodd\" fill-opacity=\"1\" stroke=\"#000000\" stroke-opacity=\"1\" stroke-width=\"3.2\"/>\n",
       "<circle clip-path=\"url(#clip142)\" cx=\"2290.1\" cy=\"766.846\" r=\"14.4\" fill=\"#e26f46\" fill-rule=\"evenodd\" fill-opacity=\"1\" stroke=\"#000000\" stroke-opacity=\"1\" stroke-width=\"3.2\"/>\n",
       "<path clip-path=\"url(#clip140)\" d=\"M2005.15 250.738 L2278.96 250.738 L2278.96 95.2176 L2005.15 95.2176  Z\" fill=\"#ffffff\" fill-rule=\"evenodd\" fill-opacity=\"1\"/>\n",
       "<polyline clip-path=\"url(#clip140)\" style=\"stroke:#000000; stroke-linecap:round; stroke-linejoin:round; stroke-width:4; stroke-opacity:1; fill:none\" points=\"2005.15,250.738 2278.96,250.738 2278.96,95.2176 2005.15,95.2176 2005.15,250.738 \"/>\n",
       "<circle clip-path=\"url(#clip140)\" cx=\"2103.54\" cy=\"147.058\" r=\"20.48\" fill=\"#009af9\" fill-rule=\"evenodd\" fill-opacity=\"1\" stroke=\"#000000\" stroke-opacity=\"1\" stroke-width=\"4.55111\"/>\n",
       "<path clip-path=\"url(#clip140)\" d=\"M2215.78 166.745 Q2213.97 171.375 2212.26 172.787 Q2210.55 174.199 2207.68 174.199 L2204.27 174.199 L2204.27 170.634 L2206.77 170.634 Q2208.53 170.634 2209.5 169.8 Q2210.48 168.967 2211.66 165.865 L2212.42 163.921 L2201.93 138.412 L2206.45 138.412 L2214.55 158.689 L2222.65 138.412 L2227.17 138.412 L2215.78 166.745 Z\" fill=\"#000000\" fill-rule=\"nonzero\" fill-opacity=\"1\" /><path clip-path=\"url(#clip140)\" d=\"M2234.46 160.402 L2242.1 160.402 L2242.1 134.037 L2233.79 135.703 L2233.79 131.444 L2242.05 129.778 L2246.73 129.778 L2246.73 160.402 L2254.36 160.402 L2254.36 164.338 L2234.46 164.338 L2234.46 160.402 Z\" fill=\"#000000\" fill-rule=\"nonzero\" fill-opacity=\"1\" /><circle clip-path=\"url(#clip140)\" cx=\"2103.54\" cy=\"198.898\" r=\"20.48\" fill=\"#e26f46\" fill-rule=\"evenodd\" fill-opacity=\"1\" stroke=\"#000000\" stroke-opacity=\"1\" stroke-width=\"4.55111\"/>\n",
       "<path clip-path=\"url(#clip140)\" d=\"M2215.78 218.585 Q2213.97 223.215 2212.26 224.627 Q2210.55 226.039 2207.68 226.039 L2204.27 226.039 L2204.27 222.474 L2206.77 222.474 Q2208.53 222.474 2209.5 221.64 Q2210.48 220.807 2211.66 217.705 L2212.42 215.761 L2201.93 190.252 L2206.45 190.252 L2214.55 210.529 L2222.65 190.252 L2227.17 190.252 L2215.78 218.585 Z\" fill=\"#000000\" fill-rule=\"nonzero\" fill-opacity=\"1\" /><path clip-path=\"url(#clip140)\" d=\"M2237.68 212.242 L2253.99 212.242 L2253.99 216.178 L2232.05 216.178 L2232.05 212.242 Q2234.71 209.488 2239.3 204.858 Q2243.9 200.205 2245.08 198.863 Q2247.33 196.34 2248.21 194.604 Q2249.11 192.844 2249.11 191.155 Q2249.11 188.4 2247.17 186.664 Q2245.24 184.928 2242.14 184.928 Q2239.94 184.928 2237.49 185.692 Q2235.06 186.455 2232.28 188.006 L2232.28 183.284 Q2235.11 182.15 2237.56 181.571 Q2240.01 180.993 2242.05 180.993 Q2247.42 180.993 2250.61 183.678 Q2253.81 186.363 2253.81 190.854 Q2253.81 192.983 2253 194.905 Q2252.21 196.803 2250.11 199.395 Q2249.53 200.067 2246.43 203.284 Q2243.32 206.479 2237.68 212.242 Z\" fill=\"#000000\" fill-rule=\"nonzero\" fill-opacity=\"1\" /></svg>\n"
      ],
      "text/html": [
       "<?xml version=\"1.0\" encoding=\"utf-8\"?>\n",
       "<svg xmlns=\"http://www.w3.org/2000/svg\" xmlns:xlink=\"http://www.w3.org/1999/xlink\" width=\"600\" height=\"400\" viewBox=\"0 0 2400 1600\">\n",
       "<defs>\n",
       "  <clipPath id=\"clip190\">\n",
       "    <rect x=\"0\" y=\"0\" width=\"2400\" height=\"1600\"/>\n",
       "  </clipPath>\n",
       "</defs>\n",
       "<path clip-path=\"url(#clip190)\" d=\"M0 1600 L2400 1600 L2400 0 L0 0  Z\" fill=\"#ffffff\" fill-rule=\"evenodd\" fill-opacity=\"1\"/>\n",
       "<defs>\n",
       "  <clipPath id=\"clip191\">\n",
       "    <rect x=\"480\" y=\"0\" width=\"1681\" height=\"1600\"/>\n",
       "  </clipPath>\n",
       "</defs>\n",
       "<path clip-path=\"url(#clip190)\" d=\"M138.959 1486.45 L2352.76 1486.45 L2352.76 47.2441 L138.959 47.2441  Z\" fill=\"#ffffff\" fill-rule=\"evenodd\" fill-opacity=\"1\"/>\n",
       "<defs>\n",
       "  <clipPath id=\"clip192\">\n",
       "    <rect x=\"138\" y=\"47\" width=\"2215\" height=\"1440\"/>\n",
       "  </clipPath>\n",
       "</defs>\n",
       "<polyline clip-path=\"url(#clip192)\" style=\"stroke:#000000; stroke-linecap:round; stroke-linejoin:round; stroke-width:2; stroke-opacity:0.1; fill:none\" points=\"201.614,1486.45 201.614,47.2441 \"/>\n",
       "<polyline clip-path=\"url(#clip192)\" style=\"stroke:#000000; stroke-linecap:round; stroke-linejoin:round; stroke-width:2; stroke-opacity:0.1; fill:none\" points=\"897.776,1486.45 897.776,47.2441 \"/>\n",
       "<polyline clip-path=\"url(#clip192)\" style=\"stroke:#000000; stroke-linecap:round; stroke-linejoin:round; stroke-width:2; stroke-opacity:0.1; fill:none\" points=\"1593.94,1486.45 1593.94,47.2441 \"/>\n",
       "<polyline clip-path=\"url(#clip192)\" style=\"stroke:#000000; stroke-linecap:round; stroke-linejoin:round; stroke-width:2; stroke-opacity:0.1; fill:none\" points=\"2290.1,1486.45 2290.1,47.2441 \"/>\n",
       "<polyline clip-path=\"url(#clip190)\" style=\"stroke:#000000; stroke-linecap:round; stroke-linejoin:round; stroke-width:4; stroke-opacity:1; fill:none\" points=\"138.959,1486.45 2352.76,1486.45 \"/>\n",
       "<polyline clip-path=\"url(#clip190)\" style=\"stroke:#000000; stroke-linecap:round; stroke-linejoin:round; stroke-width:4; stroke-opacity:1; fill:none\" points=\"201.614,1486.45 201.614,1467.55 \"/>\n",
       "<polyline clip-path=\"url(#clip190)\" style=\"stroke:#000000; stroke-linecap:round; stroke-linejoin:round; stroke-width:4; stroke-opacity:1; fill:none\" points=\"897.776,1486.45 897.776,1467.55 \"/>\n",
       "<polyline clip-path=\"url(#clip190)\" style=\"stroke:#000000; stroke-linecap:round; stroke-linejoin:round; stroke-width:4; stroke-opacity:1; fill:none\" points=\"1593.94,1486.45 1593.94,1467.55 \"/>\n",
       "<polyline clip-path=\"url(#clip190)\" style=\"stroke:#000000; stroke-linecap:round; stroke-linejoin:round; stroke-width:4; stroke-opacity:1; fill:none\" points=\"2290.1,1486.45 2290.1,1467.55 \"/>\n",
       "<path clip-path=\"url(#clip190)\" d=\"M191.996 1544.91 L199.635 1544.91 L199.635 1518.55 L191.325 1520.21 L191.325 1515.95 L199.589 1514.29 L204.265 1514.29 L204.265 1544.91 L211.903 1544.91 L211.903 1548.85 L191.996 1548.85 L191.996 1544.91 Z\" fill=\"#000000\" fill-rule=\"nonzero\" fill-opacity=\"1\" /><path clip-path=\"url(#clip190)\" d=\"M892.429 1544.91 L908.749 1544.91 L908.749 1548.85 L886.804 1548.85 L886.804 1544.91 Q889.466 1542.16 894.05 1537.53 Q898.656 1532.88 899.837 1531.53 Q902.082 1529.01 902.962 1527.27 Q903.864 1525.51 903.864 1523.82 Q903.864 1521.07 901.92 1519.33 Q899.999 1517.6 896.897 1517.6 Q894.698 1517.6 892.244 1518.36 Q889.814 1519.13 887.036 1520.68 L887.036 1515.95 Q889.86 1514.82 892.314 1514.24 Q894.767 1513.66 896.804 1513.66 Q902.175 1513.66 905.369 1516.35 Q908.563 1519.03 908.563 1523.52 Q908.563 1525.65 907.753 1527.57 Q906.966 1529.47 904.86 1532.07 Q904.281 1532.74 901.179 1535.95 Q898.077 1539.15 892.429 1544.91 Z\" fill=\"#000000\" fill-rule=\"nonzero\" fill-opacity=\"1\" /><path clip-path=\"url(#clip190)\" d=\"M1598.19 1530.21 Q1601.54 1530.93 1603.42 1533.2 Q1605.32 1535.47 1605.32 1538.8 Q1605.32 1543.92 1601.8 1546.72 Q1598.28 1549.52 1591.8 1549.52 Q1589.62 1549.52 1587.31 1549.08 Q1585.02 1548.66 1582.56 1547.81 L1582.56 1543.29 Q1584.51 1544.43 1586.82 1545.01 Q1589.14 1545.58 1591.66 1545.58 Q1596.06 1545.58 1598.35 1543.85 Q1600.66 1542.11 1600.66 1538.8 Q1600.66 1535.75 1598.51 1534.03 Q1596.38 1532.3 1592.56 1532.3 L1588.53 1532.3 L1588.53 1528.45 L1592.75 1528.45 Q1596.2 1528.45 1598.02 1527.09 Q1599.85 1525.7 1599.85 1523.11 Q1599.85 1520.45 1597.96 1519.03 Q1596.08 1517.6 1592.56 1517.6 Q1590.64 1517.6 1588.44 1518.01 Q1586.24 1518.43 1583.6 1519.31 L1583.6 1515.14 Q1586.27 1514.4 1588.58 1514.03 Q1590.92 1513.66 1592.98 1513.66 Q1598.3 1513.66 1601.4 1516.09 Q1604.51 1518.5 1604.51 1522.62 Q1604.51 1525.49 1602.86 1527.48 Q1601.22 1529.45 1598.19 1530.21 Z\" fill=\"#000000\" fill-rule=\"nonzero\" fill-opacity=\"1\" /><path clip-path=\"url(#clip190)\" d=\"M2293.11 1518.36 L2281.31 1536.81 L2293.11 1536.81 L2293.11 1518.36 M2291.88 1514.29 L2297.76 1514.29 L2297.76 1536.81 L2302.69 1536.81 L2302.69 1540.7 L2297.76 1540.7 L2297.76 1548.85 L2293.11 1548.85 L2293.11 1540.7 L2277.51 1540.7 L2277.51 1536.19 L2291.88 1514.29 Z\" fill=\"#000000\" fill-rule=\"nonzero\" fill-opacity=\"1\" /><polyline clip-path=\"url(#clip192)\" style=\"stroke:#000000; stroke-linecap:round; stroke-linejoin:round; stroke-width:2; stroke-opacity:0.1; fill:none\" points=\"138.959,1486.45 2352.76,1486.45 \"/>\n",
       "<polyline clip-path=\"url(#clip192)\" style=\"stroke:#000000; stroke-linecap:round; stroke-linejoin:round; stroke-width:2; stroke-opacity:0.1; fill:none\" points=\"138.959,1198.61 2352.76,1198.61 \"/>\n",
       "<polyline clip-path=\"url(#clip192)\" style=\"stroke:#000000; stroke-linecap:round; stroke-linejoin:round; stroke-width:2; stroke-opacity:0.1; fill:none\" points=\"138.959,910.766 2352.76,910.766 \"/>\n",
       "<polyline clip-path=\"url(#clip192)\" style=\"stroke:#000000; stroke-linecap:round; stroke-linejoin:round; stroke-width:2; stroke-opacity:0.1; fill:none\" points=\"138.959,622.926 2352.76,622.926 \"/>\n",
       "<polyline clip-path=\"url(#clip192)\" style=\"stroke:#000000; stroke-linecap:round; stroke-linejoin:round; stroke-width:2; stroke-opacity:0.1; fill:none\" points=\"138.959,335.085 2352.76,335.085 \"/>\n",
       "<polyline clip-path=\"url(#clip192)\" style=\"stroke:#000000; stroke-linecap:round; stroke-linejoin:round; stroke-width:2; stroke-opacity:0.1; fill:none\" points=\"138.959,47.2441 2352.76,47.2441 \"/>\n",
       "<polyline clip-path=\"url(#clip190)\" style=\"stroke:#000000; stroke-linecap:round; stroke-linejoin:round; stroke-width:4; stroke-opacity:1; fill:none\" points=\"138.959,1486.45 138.959,47.2441 \"/>\n",
       "<polyline clip-path=\"url(#clip190)\" style=\"stroke:#000000; stroke-linecap:round; stroke-linejoin:round; stroke-width:4; stroke-opacity:1; fill:none\" points=\"138.959,1486.45 157.857,1486.45 \"/>\n",
       "<polyline clip-path=\"url(#clip190)\" style=\"stroke:#000000; stroke-linecap:round; stroke-linejoin:round; stroke-width:4; stroke-opacity:1; fill:none\" points=\"138.959,1198.61 157.857,1198.61 \"/>\n",
       "<polyline clip-path=\"url(#clip190)\" style=\"stroke:#000000; stroke-linecap:round; stroke-linejoin:round; stroke-width:4; stroke-opacity:1; fill:none\" points=\"138.959,910.766 157.857,910.766 \"/>\n",
       "<polyline clip-path=\"url(#clip190)\" style=\"stroke:#000000; stroke-linecap:round; stroke-linejoin:round; stroke-width:4; stroke-opacity:1; fill:none\" points=\"138.959,622.926 157.857,622.926 \"/>\n",
       "<polyline clip-path=\"url(#clip190)\" style=\"stroke:#000000; stroke-linecap:round; stroke-linejoin:round; stroke-width:4; stroke-opacity:1; fill:none\" points=\"138.959,335.085 157.857,335.085 \"/>\n",
       "<polyline clip-path=\"url(#clip190)\" style=\"stroke:#000000; stroke-linecap:round; stroke-linejoin:round; stroke-width:4; stroke-opacity:1; fill:none\" points=\"138.959,47.2441 157.857,47.2441 \"/>\n",
       "<path clip-path=\"url(#clip190)\" d=\"M91.0151 1472.25 Q87.404 1472.25 85.5753 1475.81 Q83.7697 1479.35 83.7697 1486.48 Q83.7697 1493.59 85.5753 1497.15 Q87.404 1500.7 91.0151 1500.7 Q94.6493 1500.7 96.4548 1497.15 Q98.2835 1493.59 98.2835 1486.48 Q98.2835 1479.35 96.4548 1475.81 Q94.6493 1472.25 91.0151 1472.25 M91.0151 1468.54 Q96.8252 1468.54 99.8808 1473.15 Q102.959 1477.73 102.959 1486.48 Q102.959 1495.21 99.8808 1499.82 Q96.8252 1504.4 91.0151 1504.4 Q85.2049 1504.4 82.1262 1499.82 Q79.0707 1495.21 79.0707 1486.48 Q79.0707 1477.73 82.1262 1473.15 Q85.2049 1468.54 91.0151 1468.54 Z\" fill=\"#000000\" fill-rule=\"nonzero\" fill-opacity=\"1\" /><path clip-path=\"url(#clip190)\" d=\"M86.6401 1211.95 L102.959 1211.95 L102.959 1215.89 L81.0151 1215.89 L81.0151 1211.95 Q83.6771 1209.2 88.2604 1204.57 Q92.8669 1199.91 94.0475 1198.57 Q96.2928 1196.05 97.1724 1194.31 Q98.0752 1192.55 98.0752 1190.86 Q98.0752 1188.11 96.1308 1186.37 Q94.2095 1184.64 91.1077 1184.64 Q88.9086 1184.64 86.4549 1185.4 Q84.0244 1186.17 81.2466 1187.72 L81.2466 1182.99 Q84.0707 1181.86 86.5243 1181.28 Q88.978 1180.7 91.0151 1180.7 Q96.3854 1180.7 99.5798 1183.39 Q102.774 1186.07 102.774 1190.56 Q102.774 1192.69 101.964 1194.61 Q101.177 1196.51 99.0706 1199.1 Q98.4919 1199.78 95.39 1202.99 Q92.2882 1206.19 86.6401 1211.95 Z\" fill=\"#000000\" fill-rule=\"nonzero\" fill-opacity=\"1\" /><path clip-path=\"url(#clip190)\" d=\"M93.3762 897.56 L81.5707 916.009 L93.3762 916.009 L93.3762 897.56 M92.1493 893.486 L98.0289 893.486 L98.0289 916.009 L102.959 916.009 L102.959 919.898 L98.0289 919.898 L98.0289 928.046 L93.3762 928.046 L93.3762 919.898 L77.7744 919.898 L77.7744 915.384 L92.1493 893.486 Z\" fill=\"#000000\" fill-rule=\"nonzero\" fill-opacity=\"1\" /><path clip-path=\"url(#clip190)\" d=\"M91.4317 621.062 Q88.2836 621.062 86.4318 623.215 Q84.6031 625.368 84.6031 629.118 Q84.6031 632.845 86.4318 635.02 Q88.2836 637.173 91.4317 637.173 Q94.5799 637.173 96.4085 635.02 Q98.2604 632.845 98.2604 629.118 Q98.2604 625.368 96.4085 623.215 Q94.5799 621.062 91.4317 621.062 M100.714 606.409 L100.714 610.669 Q98.9548 609.835 97.1493 609.396 Q95.3669 608.956 93.6076 608.956 Q88.978 608.956 86.5243 612.081 Q84.0938 615.206 83.7466 621.525 Q85.1123 619.511 87.1725 618.446 Q89.2327 617.359 91.7095 617.359 Q96.9178 617.359 99.927 620.53 Q102.959 623.678 102.959 629.118 Q102.959 634.442 99.8113 637.659 Q96.6632 640.877 91.4317 640.877 Q85.4364 640.877 82.2651 636.294 Q79.0938 631.687 79.0938 622.96 Q79.0938 614.766 82.9827 609.905 Q86.8716 605.021 93.4225 605.021 Q95.1817 605.021 96.9641 605.368 Q98.7696 605.715 100.714 606.409 Z\" fill=\"#000000\" fill-rule=\"nonzero\" fill-opacity=\"1\" /><path clip-path=\"url(#clip190)\" d=\"M91.1077 335.953 Q87.7743 335.953 85.8531 337.735 Q83.9549 339.518 83.9549 342.643 Q83.9549 345.768 85.8531 347.55 Q87.7743 349.332 91.1077 349.332 Q94.441 349.332 96.3623 347.55 Q98.2835 345.745 98.2835 342.643 Q98.2835 339.518 96.3623 337.735 Q94.4641 335.953 91.1077 335.953 M86.4318 333.962 Q83.4225 333.221 81.7327 331.161 Q80.066 329.101 80.066 326.138 Q80.066 321.995 83.0058 319.587 Q85.9688 317.18 91.1077 317.18 Q96.2697 317.18 99.2095 319.587 Q102.149 321.995 102.149 326.138 Q102.149 329.101 100.459 331.161 Q98.7928 333.221 95.8067 333.962 Q99.1863 334.749 101.061 337.041 Q102.959 339.333 102.959 342.643 Q102.959 347.666 99.8808 350.351 Q96.8252 353.036 91.1077 353.036 Q85.3901 353.036 82.3114 350.351 Q79.2559 347.666 79.2559 342.643 Q79.2559 339.333 81.154 337.041 Q83.0521 334.749 86.4318 333.962 M84.7188 326.578 Q84.7188 329.263 86.3855 330.768 Q88.0753 332.272 91.1077 332.272 Q94.1169 332.272 95.8067 330.768 Q97.5197 329.263 97.5197 326.578 Q97.5197 323.893 95.8067 322.388 Q94.1169 320.884 91.1077 320.884 Q88.0753 320.884 86.3855 322.388 Q84.7188 323.893 84.7188 326.578 Z\" fill=\"#000000\" fill-rule=\"nonzero\" fill-opacity=\"1\" /><path clip-path=\"url(#clip190)\" d=\"M51.6634 60.5889 L59.3023 60.5889 L59.3023 34.2233 L50.9921 35.89 L50.9921 31.6308 L59.256 29.9641 L63.9319 29.9641 L63.9319 60.5889 L71.5707 60.5889 L71.5707 64.5241 L51.6634 64.5241 L51.6634 60.5889 Z\" fill=\"#000000\" fill-rule=\"nonzero\" fill-opacity=\"1\" /><path clip-path=\"url(#clip190)\" d=\"M91.0151 33.0428 Q87.404 33.0428 85.5753 36.6076 Q83.7697 40.1492 83.7697 47.2788 Q83.7697 54.3853 85.5753 57.9501 Q87.404 61.4917 91.0151 61.4917 Q94.6493 61.4917 96.4548 57.9501 Q98.2835 54.3853 98.2835 47.2788 Q98.2835 40.1492 96.4548 36.6076 Q94.6493 33.0428 91.0151 33.0428 M91.0151 29.3391 Q96.8252 29.3391 99.8808 33.9456 Q102.959 38.5289 102.959 47.2788 Q102.959 56.0056 99.8808 60.6121 Q96.8252 65.1954 91.0151 65.1954 Q85.2049 65.1954 82.1262 60.6121 Q79.0707 56.0056 79.0707 47.2788 Q79.0707 38.5289 82.1262 33.9456 Q85.2049 29.3391 91.0151 29.3391 Z\" fill=\"#000000\" fill-rule=\"nonzero\" fill-opacity=\"1\" /><circle clip-path=\"url(#clip192)\" cx=\"201.614\" cy=\"1112.69\" r=\"14.4\" fill=\"#009af9\" fill-rule=\"evenodd\" fill-opacity=\"1\" stroke=\"#000000\" stroke-opacity=\"1\" stroke-width=\"3.2\"/>\n",
       "<circle clip-path=\"url(#clip192)\" cx=\"897.776\" cy=\"568.795\" r=\"14.4\" fill=\"#009af9\" fill-rule=\"evenodd\" fill-opacity=\"1\" stroke=\"#000000\" stroke-opacity=\"1\" stroke-width=\"3.2\"/>\n",
       "<circle clip-path=\"url(#clip192)\" cx=\"1593.94\" cy=\"568.795\" r=\"14.4\" fill=\"#009af9\" fill-rule=\"evenodd\" fill-opacity=\"1\" stroke=\"#000000\" stroke-opacity=\"1\" stroke-width=\"3.2\"/>\n",
       "<circle clip-path=\"url(#clip192)\" cx=\"201.614\" cy=\"1198.61\" r=\"14.4\" fill=\"#e26f46\" fill-rule=\"evenodd\" fill-opacity=\"1\" stroke=\"#000000\" stroke-opacity=\"1\" stroke-width=\"3.2\"/>\n",
       "<circle clip-path=\"url(#clip192)\" cx=\"897.776\" cy=\"1054.69\" r=\"14.4\" fill=\"#e26f46\" fill-rule=\"evenodd\" fill-opacity=\"1\" stroke=\"#000000\" stroke-opacity=\"1\" stroke-width=\"3.2\"/>\n",
       "<circle clip-path=\"url(#clip192)\" cx=\"1593.94\" cy=\"910.766\" r=\"14.4\" fill=\"#e26f46\" fill-rule=\"evenodd\" fill-opacity=\"1\" stroke=\"#000000\" stroke-opacity=\"1\" stroke-width=\"3.2\"/>\n",
       "<circle clip-path=\"url(#clip192)\" cx=\"2290.1\" cy=\"766.846\" r=\"14.4\" fill=\"#e26f46\" fill-rule=\"evenodd\" fill-opacity=\"1\" stroke=\"#000000\" stroke-opacity=\"1\" stroke-width=\"3.2\"/>\n",
       "<path clip-path=\"url(#clip190)\" d=\"M2005.15 250.738 L2278.96 250.738 L2278.96 95.2176 L2005.15 95.2176  Z\" fill=\"#ffffff\" fill-rule=\"evenodd\" fill-opacity=\"1\"/>\n",
       "<polyline clip-path=\"url(#clip190)\" style=\"stroke:#000000; stroke-linecap:round; stroke-linejoin:round; stroke-width:4; stroke-opacity:1; fill:none\" points=\"2005.15,250.738 2278.96,250.738 2278.96,95.2176 2005.15,95.2176 2005.15,250.738 \"/>\n",
       "<circle clip-path=\"url(#clip190)\" cx=\"2103.54\" cy=\"147.058\" r=\"20.48\" fill=\"#009af9\" fill-rule=\"evenodd\" fill-opacity=\"1\" stroke=\"#000000\" stroke-opacity=\"1\" stroke-width=\"4.55111\"/>\n",
       "<path clip-path=\"url(#clip190)\" d=\"M2215.78 166.745 Q2213.97 171.375 2212.26 172.787 Q2210.55 174.199 2207.68 174.199 L2204.27 174.199 L2204.27 170.634 L2206.77 170.634 Q2208.53 170.634 2209.5 169.8 Q2210.48 168.967 2211.66 165.865 L2212.42 163.921 L2201.93 138.412 L2206.45 138.412 L2214.55 158.689 L2222.65 138.412 L2227.17 138.412 L2215.78 166.745 Z\" fill=\"#000000\" fill-rule=\"nonzero\" fill-opacity=\"1\" /><path clip-path=\"url(#clip190)\" d=\"M2234.46 160.402 L2242.1 160.402 L2242.1 134.037 L2233.79 135.703 L2233.79 131.444 L2242.05 129.778 L2246.73 129.778 L2246.73 160.402 L2254.36 160.402 L2254.36 164.338 L2234.46 164.338 L2234.46 160.402 Z\" fill=\"#000000\" fill-rule=\"nonzero\" fill-opacity=\"1\" /><circle clip-path=\"url(#clip190)\" cx=\"2103.54\" cy=\"198.898\" r=\"20.48\" fill=\"#e26f46\" fill-rule=\"evenodd\" fill-opacity=\"1\" stroke=\"#000000\" stroke-opacity=\"1\" stroke-width=\"4.55111\"/>\n",
       "<path clip-path=\"url(#clip190)\" d=\"M2215.78 218.585 Q2213.97 223.215 2212.26 224.627 Q2210.55 226.039 2207.68 226.039 L2204.27 226.039 L2204.27 222.474 L2206.77 222.474 Q2208.53 222.474 2209.5 221.64 Q2210.48 220.807 2211.66 217.705 L2212.42 215.761 L2201.93 190.252 L2206.45 190.252 L2214.55 210.529 L2222.65 190.252 L2227.17 190.252 L2215.78 218.585 Z\" fill=\"#000000\" fill-rule=\"nonzero\" fill-opacity=\"1\" /><path clip-path=\"url(#clip190)\" d=\"M2237.68 212.242 L2253.99 212.242 L2253.99 216.178 L2232.05 216.178 L2232.05 212.242 Q2234.71 209.488 2239.3 204.858 Q2243.9 200.205 2245.08 198.863 Q2247.33 196.34 2248.21 194.604 Q2249.11 192.844 2249.11 191.155 Q2249.11 188.4 2247.17 186.664 Q2245.24 184.928 2242.14 184.928 Q2239.94 184.928 2237.49 185.692 Q2235.06 186.455 2232.28 188.006 L2232.28 183.284 Q2235.11 182.15 2237.56 181.571 Q2240.01 180.993 2242.05 180.993 Q2247.42 180.993 2250.61 183.678 Q2253.81 186.363 2253.81 190.854 Q2253.81 192.983 2253 194.905 Q2252.21 196.803 2250.11 199.395 Q2249.53 200.067 2246.43 203.284 Q2243.32 206.479 2237.68 212.242 Z\" fill=\"#000000\" fill-rule=\"nonzero\" fill-opacity=\"1\" /></svg>\n"
      ]
     },
     "metadata": {},
     "output_type": "display_data"
    }
   ],
   "source": [
    "nvector=[i for i in eachindex(ϵ)]\n",
    "scatter(nvector,real(ϵ),ylims=(0,10))\n",
    "scatter!(nvector,ϵ_real)"
   ]
  }
 ],
 "metadata": {
  "kernelspec": {
   "display_name": "Julia 1.9.0",
   "language": "julia",
   "name": "julia-1.9"
  },
  "language_info": {
   "file_extension": ".jl",
   "mimetype": "application/julia",
   "name": "julia",
   "version": "1.9.0"
  },
  "orig_nbformat": 4
 },
 "nbformat": 4,
 "nbformat_minor": 2
}
